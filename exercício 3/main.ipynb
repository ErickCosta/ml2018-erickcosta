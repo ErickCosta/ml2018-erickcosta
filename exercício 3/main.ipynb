{
 "cells": [
  {
   "cell_type": "code",
   "execution_count": 401,
   "metadata": {},
   "outputs": [],
   "source": [
    "from sklearn.linear_model import Ridge, Lasso, LinearRegression\n",
    "from sklearn.svm import SVC\n",
    "from sklearn.model_selection import cross_val_score\n",
    "from sklearn.metrics import mean_squared_error\n",
    "from scipy.stats import skew\n",
    "from sklearn import metrics\n",
    "import matplotlib.pyplot as plt\n",
    "import pandas as pd\n",
    "import numpy as np\n",
    "import matplotlib"
   ]
  },
  {
   "cell_type": "markdown",
   "metadata": {},
   "source": [
    "# Leitura dos dados"
   ]
  },
  {
   "cell_type": "code",
   "execution_count": 402,
   "metadata": {},
   "outputs": [],
   "source": [
    "#Carregamento dos dados\n",
    "data = pd.read_csv('data.csv', delimiter=',')\n",
    "\n",
    "data2014 = pd.read_csv('test.csv', delimiter=',')"
   ]
  },
  {
   "cell_type": "markdown",
   "metadata": {},
   "source": [
    "# Inspecionando primeiras linhas"
   ]
  },
  {
   "cell_type": "code",
   "execution_count": 403,
   "metadata": {
    "scrolled": true
   },
   "outputs": [
    {
     "data": {
      "text/html": [
       "<div>\n",
       "<style scoped>\n",
       "    .dataframe tbody tr th:only-of-type {\n",
       "        vertical-align: middle;\n",
       "    }\n",
       "\n",
       "    .dataframe tbody tr th {\n",
       "        vertical-align: top;\n",
       "    }\n",
       "\n",
       "    .dataframe thead th {\n",
       "        text-align: right;\n",
       "    }\n",
       "</style>\n",
       "<table border=\"1\" class=\"dataframe\">\n",
       "  <thead>\n",
       "    <tr style=\"text-align: right;\">\n",
       "      <th></th>\n",
       "      <th>ano</th>\n",
       "      <th>sequencial_candidato</th>\n",
       "      <th>nome</th>\n",
       "      <th>uf</th>\n",
       "      <th>partido</th>\n",
       "      <th>quantidade_doacoes</th>\n",
       "      <th>quantidade_doadores</th>\n",
       "      <th>total_receita</th>\n",
       "      <th>media_receita</th>\n",
       "      <th>recursos_de_outros_candidatos/comites</th>\n",
       "      <th>...</th>\n",
       "      <th>quantidade_despesas</th>\n",
       "      <th>quantidade_fornecedores</th>\n",
       "      <th>total_despesa</th>\n",
       "      <th>media_despesa</th>\n",
       "      <th>cargo</th>\n",
       "      <th>sexo</th>\n",
       "      <th>grau</th>\n",
       "      <th>estado_civil</th>\n",
       "      <th>ocupacao</th>\n",
       "      <th>votos</th>\n",
       "    </tr>\n",
       "  </thead>\n",
       "  <tbody>\n",
       "    <tr>\n",
       "      <th>0</th>\n",
       "      <td>2006</td>\n",
       "      <td>10001</td>\n",
       "      <td>JOSÉ LUIZ NOGUEIRA DE SOUSA</td>\n",
       "      <td>AP</td>\n",
       "      <td>PT</td>\n",
       "      <td>6</td>\n",
       "      <td>6</td>\n",
       "      <td>16600.00</td>\n",
       "      <td>2766.666667</td>\n",
       "      <td>NaN</td>\n",
       "      <td>...</td>\n",
       "      <td>14</td>\n",
       "      <td>14</td>\n",
       "      <td>16583.60</td>\n",
       "      <td>1184.542857</td>\n",
       "      <td>DEPUTADO FEDERAL</td>\n",
       "      <td>MASCULINO</td>\n",
       "      <td>ENSINO MÉDIO COMPLETO</td>\n",
       "      <td>CASADO(A)</td>\n",
       "      <td>VEREADOR</td>\n",
       "      <td>8579</td>\n",
       "    </tr>\n",
       "    <tr>\n",
       "      <th>1</th>\n",
       "      <td>2006</td>\n",
       "      <td>10002</td>\n",
       "      <td>LOIVA DE OLIVEIRA</td>\n",
       "      <td>RO</td>\n",
       "      <td>PT</td>\n",
       "      <td>13</td>\n",
       "      <td>13</td>\n",
       "      <td>22826.00</td>\n",
       "      <td>1755.846154</td>\n",
       "      <td>6625.0</td>\n",
       "      <td>...</td>\n",
       "      <td>24</td>\n",
       "      <td>23</td>\n",
       "      <td>20325.99</td>\n",
       "      <td>883.738696</td>\n",
       "      <td>DEPUTADO FEDERAL</td>\n",
       "      <td>FEMININO</td>\n",
       "      <td>SUPERIOR COMPLETO</td>\n",
       "      <td>SOLTEIRO(A)</td>\n",
       "      <td>SERVIDOR PÚBLICO ESTADUAL</td>\n",
       "      <td>2757</td>\n",
       "    </tr>\n",
       "    <tr>\n",
       "      <th>2</th>\n",
       "      <td>2006</td>\n",
       "      <td>10002</td>\n",
       "      <td>MARIA DALVA DE SOUZA FIGUEIREDO</td>\n",
       "      <td>AP</td>\n",
       "      <td>PT</td>\n",
       "      <td>17</td>\n",
       "      <td>16</td>\n",
       "      <td>148120.80</td>\n",
       "      <td>9257.550000</td>\n",
       "      <td>2250.0</td>\n",
       "      <td>...</td>\n",
       "      <td>123</td>\n",
       "      <td>108</td>\n",
       "      <td>146011.70</td>\n",
       "      <td>1351.960185</td>\n",
       "      <td>DEPUTADO FEDERAL</td>\n",
       "      <td>FEMININO</td>\n",
       "      <td>SUPERIOR COMPLETO</td>\n",
       "      <td>VIÚVO(A)</td>\n",
       "      <td>PEDAGOGO</td>\n",
       "      <td>17428</td>\n",
       "    </tr>\n",
       "    <tr>\n",
       "      <th>3</th>\n",
       "      <td>2006</td>\n",
       "      <td>10002</td>\n",
       "      <td>ROMALDO MILANI</td>\n",
       "      <td>MS</td>\n",
       "      <td>PRONA</td>\n",
       "      <td>6</td>\n",
       "      <td>6</td>\n",
       "      <td>3001.12</td>\n",
       "      <td>500.186667</td>\n",
       "      <td>NaN</td>\n",
       "      <td>...</td>\n",
       "      <td>8</td>\n",
       "      <td>8</td>\n",
       "      <td>3001.12</td>\n",
       "      <td>375.140000</td>\n",
       "      <td>DEPUTADO FEDERAL</td>\n",
       "      <td>MASCULINO</td>\n",
       "      <td>ENSINO MÉDIO INCOMPLETO</td>\n",
       "      <td>CASADO(A)</td>\n",
       "      <td>MILITAR REFORMADO</td>\n",
       "      <td>1193</td>\n",
       "    </tr>\n",
       "    <tr>\n",
       "      <th>4</th>\n",
       "      <td>2006</td>\n",
       "      <td>10003</td>\n",
       "      <td>ANSELMO DE JESUS ABREU</td>\n",
       "      <td>RO</td>\n",
       "      <td>PT</td>\n",
       "      <td>48</td>\n",
       "      <td>48</td>\n",
       "      <td>NaN</td>\n",
       "      <td>NaN</td>\n",
       "      <td>NaN</td>\n",
       "      <td>...</td>\n",
       "      <td>133</td>\n",
       "      <td>120</td>\n",
       "      <td>116416.64</td>\n",
       "      <td>970.138667</td>\n",
       "      <td>DEPUTADO FEDERAL</td>\n",
       "      <td>MASCULINO</td>\n",
       "      <td>ENSINO FUNDAMENTAL COMPLETO</td>\n",
       "      <td>CASADO(A)</td>\n",
       "      <td>DEPUTADO</td>\n",
       "      <td>29401</td>\n",
       "    </tr>\n",
       "  </tbody>\n",
       "</table>\n",
       "<p>5 rows × 23 columns</p>\n",
       "</div>"
      ],
      "text/plain": [
       "    ano  sequencial_candidato                             nome  uf partido  \\\n",
       "0  2006                 10001      JOSÉ LUIZ NOGUEIRA DE SOUSA  AP      PT   \n",
       "1  2006                 10002                LOIVA DE OLIVEIRA  RO      PT   \n",
       "2  2006                 10002  MARIA DALVA DE SOUZA FIGUEIREDO  AP      PT   \n",
       "3  2006                 10002                   ROMALDO MILANI  MS   PRONA   \n",
       "4  2006                 10003           ANSELMO DE JESUS ABREU  RO      PT   \n",
       "\n",
       "   quantidade_doacoes  quantidade_doadores  total_receita  media_receita  \\\n",
       "0                   6                    6       16600.00    2766.666667   \n",
       "1                  13                   13       22826.00    1755.846154   \n",
       "2                  17                   16      148120.80    9257.550000   \n",
       "3                   6                    6        3001.12     500.186667   \n",
       "4                  48                   48            NaN            NaN   \n",
       "\n",
       "   recursos_de_outros_candidatos/comites  ...    quantidade_despesas  \\\n",
       "0                                    NaN  ...                     14   \n",
       "1                                 6625.0  ...                     24   \n",
       "2                                 2250.0  ...                    123   \n",
       "3                                    NaN  ...                      8   \n",
       "4                                    NaN  ...                    133   \n",
       "\n",
       "   quantidade_fornecedores  total_despesa  media_despesa             cargo  \\\n",
       "0                       14       16583.60    1184.542857  DEPUTADO FEDERAL   \n",
       "1                       23       20325.99     883.738696  DEPUTADO FEDERAL   \n",
       "2                      108      146011.70    1351.960185  DEPUTADO FEDERAL   \n",
       "3                        8        3001.12     375.140000  DEPUTADO FEDERAL   \n",
       "4                      120      116416.64     970.138667  DEPUTADO FEDERAL   \n",
       "\n",
       "        sexo                         grau estado_civil  \\\n",
       "0  MASCULINO        ENSINO MÉDIO COMPLETO    CASADO(A)   \n",
       "1   FEMININO            SUPERIOR COMPLETO  SOLTEIRO(A)   \n",
       "2   FEMININO            SUPERIOR COMPLETO     VIÚVO(A)   \n",
       "3  MASCULINO      ENSINO MÉDIO INCOMPLETO    CASADO(A)   \n",
       "4  MASCULINO  ENSINO FUNDAMENTAL COMPLETO    CASADO(A)   \n",
       "\n",
       "                    ocupacao  votos  \n",
       "0                   VEREADOR   8579  \n",
       "1  SERVIDOR PÚBLICO ESTADUAL   2757  \n",
       "2                   PEDAGOGO  17428  \n",
       "3          MILITAR REFORMADO   1193  \n",
       "4                   DEPUTADO  29401  \n",
       "\n",
       "[5 rows x 23 columns]"
      ]
     },
     "execution_count": 403,
     "metadata": {},
     "output_type": "execute_result"
    }
   ],
   "source": [
    "#Primeiras linhas\n",
    "data.head()"
   ]
  },
  {
   "cell_type": "markdown",
   "metadata": {},
   "source": [
    "# Inspecionando últimas linhas"
   ]
  },
  {
   "cell_type": "code",
   "execution_count": 404,
   "metadata": {
    "scrolled": true
   },
   "outputs": [
    {
     "data": {
      "text/html": [
       "<div>\n",
       "<style scoped>\n",
       "    .dataframe tbody tr th:only-of-type {\n",
       "        vertical-align: middle;\n",
       "    }\n",
       "\n",
       "    .dataframe tbody tr th {\n",
       "        vertical-align: top;\n",
       "    }\n",
       "\n",
       "    .dataframe thead th {\n",
       "        text-align: right;\n",
       "    }\n",
       "</style>\n",
       "<table border=\"1\" class=\"dataframe\">\n",
       "  <thead>\n",
       "    <tr style=\"text-align: right;\">\n",
       "      <th></th>\n",
       "      <th>ano</th>\n",
       "      <th>sequencial_candidato</th>\n",
       "      <th>nome</th>\n",
       "      <th>uf</th>\n",
       "      <th>partido</th>\n",
       "      <th>quantidade_doacoes</th>\n",
       "      <th>quantidade_doadores</th>\n",
       "      <th>total_receita</th>\n",
       "      <th>media_receita</th>\n",
       "      <th>recursos_de_outros_candidatos/comites</th>\n",
       "      <th>...</th>\n",
       "      <th>quantidade_despesas</th>\n",
       "      <th>quantidade_fornecedores</th>\n",
       "      <th>total_despesa</th>\n",
       "      <th>media_despesa</th>\n",
       "      <th>cargo</th>\n",
       "      <th>sexo</th>\n",
       "      <th>grau</th>\n",
       "      <th>estado_civil</th>\n",
       "      <th>ocupacao</th>\n",
       "      <th>votos</th>\n",
       "    </tr>\n",
       "  </thead>\n",
       "  <tbody>\n",
       "    <tr>\n",
       "      <th>7325</th>\n",
       "      <td>2010</td>\n",
       "      <td>270000000264</td>\n",
       "      <td>ROBERTO PEREIRA URBANO</td>\n",
       "      <td>TO</td>\n",
       "      <td>PSC</td>\n",
       "      <td>3</td>\n",
       "      <td>3</td>\n",
       "      <td>3370.00</td>\n",
       "      <td>1123.333333</td>\n",
       "      <td>370.00</td>\n",
       "      <td>...</td>\n",
       "      <td>16</td>\n",
       "      <td>16</td>\n",
       "      <td>3363.41</td>\n",
       "      <td>210.213125</td>\n",
       "      <td>DEPUTADO FEDERAL</td>\n",
       "      <td>MASCULINO</td>\n",
       "      <td>SUPERIOR COMPLETO</td>\n",
       "      <td>CASADO(A)</td>\n",
       "      <td>ADVOGADO</td>\n",
       "      <td>3013</td>\n",
       "    </tr>\n",
       "    <tr>\n",
       "      <th>7326</th>\n",
       "      <td>2010</td>\n",
       "      <td>270000000265</td>\n",
       "      <td>RONALDO DIMAS NOGUEIRA PEREIRA</td>\n",
       "      <td>TO</td>\n",
       "      <td>PR</td>\n",
       "      <td>715</td>\n",
       "      <td>706</td>\n",
       "      <td>1034323.16</td>\n",
       "      <td>1465.046969</td>\n",
       "      <td>211804.58</td>\n",
       "      <td>...</td>\n",
       "      <td>1658</td>\n",
       "      <td>1275</td>\n",
       "      <td>815638.26</td>\n",
       "      <td>639.716282</td>\n",
       "      <td>DEPUTADO FEDERAL</td>\n",
       "      <td>MASCULINO</td>\n",
       "      <td>SUPERIOR COMPLETO</td>\n",
       "      <td>CASADO(A)</td>\n",
       "      <td>ENGENHEIRO</td>\n",
       "      <td>35980</td>\n",
       "    </tr>\n",
       "    <tr>\n",
       "      <th>7327</th>\n",
       "      <td>2010</td>\n",
       "      <td>270000000266</td>\n",
       "      <td>SÉRGIO PERIN</td>\n",
       "      <td>TO</td>\n",
       "      <td>PTB</td>\n",
       "      <td>2</td>\n",
       "      <td>2</td>\n",
       "      <td>2600.00</td>\n",
       "      <td>1300.000000</td>\n",
       "      <td>NaN</td>\n",
       "      <td>...</td>\n",
       "      <td>2</td>\n",
       "      <td>2</td>\n",
       "      <td>2600.00</td>\n",
       "      <td>1300.000000</td>\n",
       "      <td>DEPUTADO FEDERAL</td>\n",
       "      <td>MASCULINO</td>\n",
       "      <td>SUPERIOR INCOMPLETO</td>\n",
       "      <td>CASADO(A)</td>\n",
       "      <td>ODONTÓLOGO</td>\n",
       "      <td>20</td>\n",
       "    </tr>\n",
       "    <tr>\n",
       "      <th>7328</th>\n",
       "      <td>2010</td>\n",
       "      <td>270000000267</td>\n",
       "      <td>ÍTALO MARCEL COSTA CONCEIÇÃO</td>\n",
       "      <td>TO</td>\n",
       "      <td>PR</td>\n",
       "      <td>2</td>\n",
       "      <td>2</td>\n",
       "      <td>5175.00</td>\n",
       "      <td>2587.500000</td>\n",
       "      <td>3375.00</td>\n",
       "      <td>...</td>\n",
       "      <td>2</td>\n",
       "      <td>2</td>\n",
       "      <td>5175.00</td>\n",
       "      <td>2587.500000</td>\n",
       "      <td>DEPUTADO FEDERAL</td>\n",
       "      <td>MASCULINO</td>\n",
       "      <td>SUPERIOR COMPLETO</td>\n",
       "      <td>CASADO(A)</td>\n",
       "      <td>BANCÁRIO E ECONOMIÁRIO</td>\n",
       "      <td>293</td>\n",
       "    </tr>\n",
       "    <tr>\n",
       "      <th>7329</th>\n",
       "      <td>2010</td>\n",
       "      <td>270000000501</td>\n",
       "      <td>LEONAM XAVIER GOMES</td>\n",
       "      <td>TO</td>\n",
       "      <td>PPS</td>\n",
       "      <td>13</td>\n",
       "      <td>12</td>\n",
       "      <td>33852.82</td>\n",
       "      <td>2821.068333</td>\n",
       "      <td>30083.67</td>\n",
       "      <td>...</td>\n",
       "      <td>47</td>\n",
       "      <td>46</td>\n",
       "      <td>36739.62</td>\n",
       "      <td>798.687391</td>\n",
       "      <td>DEPUTADO FEDERAL</td>\n",
       "      <td>MASCULINO</td>\n",
       "      <td>SUPERIOR COMPLETO</td>\n",
       "      <td>CASADO(A)</td>\n",
       "      <td>SERVIDOR PÚBLICO FEDERAL</td>\n",
       "      <td>1248</td>\n",
       "    </tr>\n",
       "  </tbody>\n",
       "</table>\n",
       "<p>5 rows × 23 columns</p>\n",
       "</div>"
      ],
      "text/plain": [
       "       ano  sequencial_candidato                            nome  uf partido  \\\n",
       "7325  2010          270000000264          ROBERTO PEREIRA URBANO  TO     PSC   \n",
       "7326  2010          270000000265  RONALDO DIMAS NOGUEIRA PEREIRA  TO      PR   \n",
       "7327  2010          270000000266                    SÉRGIO PERIN  TO     PTB   \n",
       "7328  2010          270000000267    ÍTALO MARCEL COSTA CONCEIÇÃO  TO      PR   \n",
       "7329  2010          270000000501             LEONAM XAVIER GOMES  TO     PPS   \n",
       "\n",
       "      quantidade_doacoes  quantidade_doadores  total_receita  media_receita  \\\n",
       "7325                   3                    3        3370.00    1123.333333   \n",
       "7326                 715                  706     1034323.16    1465.046969   \n",
       "7327                   2                    2        2600.00    1300.000000   \n",
       "7328                   2                    2        5175.00    2587.500000   \n",
       "7329                  13                   12       33852.82    2821.068333   \n",
       "\n",
       "      recursos_de_outros_candidatos/comites  ...    quantidade_despesas  \\\n",
       "7325                                 370.00  ...                     16   \n",
       "7326                              211804.58  ...                   1658   \n",
       "7327                                    NaN  ...                      2   \n",
       "7328                                3375.00  ...                      2   \n",
       "7329                               30083.67  ...                     47   \n",
       "\n",
       "      quantidade_fornecedores  total_despesa  media_despesa             cargo  \\\n",
       "7325                       16        3363.41     210.213125  DEPUTADO FEDERAL   \n",
       "7326                     1275      815638.26     639.716282  DEPUTADO FEDERAL   \n",
       "7327                        2        2600.00    1300.000000  DEPUTADO FEDERAL   \n",
       "7328                        2        5175.00    2587.500000  DEPUTADO FEDERAL   \n",
       "7329                       46       36739.62     798.687391  DEPUTADO FEDERAL   \n",
       "\n",
       "           sexo                 grau estado_civil                  ocupacao  \\\n",
       "7325  MASCULINO    SUPERIOR COMPLETO    CASADO(A)                  ADVOGADO   \n",
       "7326  MASCULINO    SUPERIOR COMPLETO    CASADO(A)                ENGENHEIRO   \n",
       "7327  MASCULINO  SUPERIOR INCOMPLETO    CASADO(A)                ODONTÓLOGO   \n",
       "7328  MASCULINO    SUPERIOR COMPLETO    CASADO(A)    BANCÁRIO E ECONOMIÁRIO   \n",
       "7329  MASCULINO    SUPERIOR COMPLETO    CASADO(A)  SERVIDOR PÚBLICO FEDERAL   \n",
       "\n",
       "      votos  \n",
       "7325   3013  \n",
       "7326  35980  \n",
       "7327     20  \n",
       "7328    293  \n",
       "7329   1248  \n",
       "\n",
       "[5 rows x 23 columns]"
      ]
     },
     "execution_count": 404,
     "metadata": {},
     "output_type": "execute_result"
    }
   ],
   "source": [
    "#últimas linhas\n",
    "data.tail()"
   ]
  },
  {
   "cell_type": "markdown",
   "metadata": {},
   "source": [
    "# Removendo pouco discriminatórias e redundâncias"
   ]
  },
  {
   "cell_type": "markdown",
   "metadata": {},
   "source": [
    "Obervando inicialmente as colunas que caracterizam os os dados, percebemos que, se quizermos predizer a quantidade de votos que um candidato terá, é necessário analisar quais colunas realmente são discriminatórias para quantidade de votos obtidos por um candidato.\n",
    "\n",
    "A coluna \"ano\" pouco diz sobre a quantidade de votos que o candidato recebeu, imagenemos que em 2006 o candidato recebeu 20 mil votos e em 2010 recebeu 30 mil. O ano em sí, não caracteriza o aumento de votos, mas o conjunto de fatores que mudaram de um ano eletivo para o outro. Logo, essa coluna não será considerada para a construção do modelo.\n",
    "\n",
    "As colunas \"sequencial_candidato\", \"nome\", \"cargo\" e \"ocupação\" são apenas informativas para caracterizar o candidato dentro do conjunto de informações, tabém não serão consideradas.\n",
    "\n",
    "Analisando as colunas \"quantidade_doacoes\" e \"quantidade_doadores\", podemos obervar que elas possuem informações redundantes, visto que para a maior parte dos candidatos a quantidade de doações é explicada pela quantidade de doadores, ou seja, sempre que existe um doador existirá uma doação. Logo, a coluna \"quantidade_doadores\" não será considerada.\n",
    "\n",
    "Dentre as colunas \"quantidade_despesas\" e \"quantidade_fornecedores\", consideramos o mesmo posicionamento da \"quantidade_doacoes\". Logo, a coluna \"quantidade_fornecedores\" não será considerada.\n",
    "\n",
    "Sendo assim, as colunas que serão usadas para treinar os modelos e tentar predizer a quantidade de votos indicado na coluna \"votos\" (variável alvo) são:\n",
    "\n",
    "\"uf\": (character)\n",
    "\n",
    "\"partido\": (character)\n",
    "\n",
    "\"quantidade_doacoes\": (integer)\n",
    "\n",
    "\"total_receita\": (double) soma em R$ das doações\n",
    "\n",
    "\"media_receita\": (double) média das doações\n",
    "\n",
    "\"recursos_de_outros_candidatos/comites\": (double) quantia em R$ das doações provenientes de outros candidatos ou comite partidário\n",
    "\n",
    "\"recursos_de_pessoas_fisicas\": (double) quantia em R$ das doações provenientes de outros CPFs\n",
    "\n",
    "\"recursos_de_pessoas_juridicas\": (double) quantia em R$ das doações provenientes de outros CNPJ\n",
    "\n",
    "\"recursos_proprios\": (double) quantia em R$ das doações provenientes do próprio candidato\n",
    "\n",
    "\"quantidade_despesas\": (integer)\n",
    "\n",
    "\"total_despesa\": (double) soma em R$ das despesas de campanha\n",
    "\n",
    "\"media_despesa\": (double) média das despesas de campanha\n",
    "\n",
    "\"sexo\":  (character)\n",
    "\n",
    "\"grau\": (character) grau de instrução do candidato\n",
    "\n",
    "\"estado_civil\": (character)"
   ]
  },
  {
   "cell_type": "code",
   "execution_count": 405,
   "metadata": {},
   "outputs": [],
   "source": [
    "#Removendo colunas com dados irrelevantes e redundantes\n",
    "data = data.drop(['cargo', 'ocupacao' , 'sequencial_candidato', 'nome', 'quantidade_doadores', 'quantidade_fornecedores'], axis=1)\n",
    "\n",
    "data2014 = data2014.drop(['cargo', 'ocupacao' , 'sequencial_candidato', 'nome', 'quantidade_doadores', 'quantidade_fornecedores'], axis=1)"
   ]
  },
  {
   "cell_type": "markdown",
   "metadata": {},
   "source": [
    "# Normalizando informações quantitativas"
   ]
  },
  {
   "cell_type": "code",
   "execution_count": 406,
   "metadata": {
    "scrolled": true
   },
   "outputs": [
    {
     "data": {
      "text/plain": [
       "array([[<matplotlib.axes._subplots.AxesSubplot object at 0x000002429EDF79B0>,\n",
       "        <matplotlib.axes._subplots.AxesSubplot object at 0x000002429F11CD68>]],\n",
       "      dtype=object)"
      ]
     },
     "execution_count": 406,
     "metadata": {},
     "output_type": "execute_result"
    },
    {
     "data": {
      "image/png": "[encoded data removed]",
      "text/plain": [
       "<Figure size 864x432 with 2 Axes>"
      ]
     },
     "metadata": {
      "needs_background": "light"
     },
     "output_type": "display_data"
    }
   ],
   "source": [
    "#Analisando a necessidade de normalização(log) tomando como exemplo os dados da coluna \"quantidade_doacoes\"\n",
    "matplotlib.rcParams['figure.figsize'] = (12.0, 6.0)\n",
    "\n",
    "qtd_doacoes = pd.DataFrame({\"quantidade_doacoes\":data[\"quantidade_doacoes\"], \"log(quantidade_doacoes + 1)\":np.log1p(data[\"quantidade_doacoes\"])})\n",
    "qtd_doacoes.hist()"
   ]
  },
  {
   "cell_type": "markdown",
   "metadata": {},
   "source": [
    "Na amostra original da coluna \"quantidade_doacoes\", vemos que, antes da aplicação da normalização, os dados estão concentrados a direita e, após a aplicação da normalização, os dados ficaram melhor distribuídos. Iremos analisar a necessidade para as demais colunas, mas só aplicaremos a normalizalção nas que realmente necessitarem."
   ]
  },
  {
   "cell_type": "code",
   "execution_count": 407,
   "metadata": {},
   "outputs": [
    {
     "data": {
      "text/plain": [
       "array([[<matplotlib.axes._subplots.AxesSubplot object at 0x000002429F1B8A20>,\n",
       "        <matplotlib.axes._subplots.AxesSubplot object at 0x000002429F1DD198>]],\n",
       "      dtype=object)"
      ]
     },
     "execution_count": 407,
     "metadata": {},
     "output_type": "execute_result"
    },
    {
     "data": {
      "image/png": "[encoded data removed]",
      "text/plain": [
       "<Figure size 864x432 with 2 Axes>"
      ]
     },
     "metadata": {
      "needs_background": "light"
     },
     "output_type": "display_data"
    }
   ],
   "source": [
    "#Analisando a necessidade de normalização(log) tomando como exemplo os dados da coluna \"total_receita\"\n",
    "matplotlib.rcParams['figure.figsize'] = (12.0, 6.0)\n",
    "\n",
    "total_receita = pd.DataFrame({\"total_receita\":data[\"total_receita\"], \"log(total_receita + 1)\":np.log1p(data[\"total_receita\"])})\n",
    "total_receita.hist()"
   ]
  },
  {
   "cell_type": "code",
   "execution_count": 408,
   "metadata": {
    "scrolled": true
   },
   "outputs": [
    {
     "data": {
      "text/plain": [
       "array([[<matplotlib.axes._subplots.AxesSubplot object at 0x00000242A00202B0>,\n",
       "        <matplotlib.axes._subplots.AxesSubplot object at 0x00000242A0040D30>]],\n",
       "      dtype=object)"
      ]
     },
     "execution_count": 408,
     "metadata": {},
     "output_type": "execute_result"
    },
    {
     "data": {
      "image/png": "[encoded data removed]",
      "text/plain": [
       "<Figure size 864x432 with 2 Axes>"
      ]
     },
     "metadata": {
      "needs_background": "light"
     },
     "output_type": "display_data"
    }
   ],
   "source": [
    "#Analisando a necessidade de normalização(log) tomando como exemplo os dados da coluna \"media_receita\"\n",
    "matplotlib.rcParams['figure.figsize'] = (12.0, 6.0)\n",
    "\n",
    "media_receita = pd.DataFrame({\"media_receita\":data[\"media_receita\"], \"log(media_receita + 1)\":np.log1p(data[\"media_receita\"])})\n",
    "media_receita.hist()"
   ]
  },
  {
   "cell_type": "code",
   "execution_count": 409,
   "metadata": {},
   "outputs": [
    {
     "data": {
      "text/plain": [
       "array([[<matplotlib.axes._subplots.AxesSubplot object at 0x000002429FF087B8>,\n",
       "        <matplotlib.axes._subplots.AxesSubplot object at 0x000002429FF29D68>]],\n",
       "      dtype=object)"
      ]
     },
     "execution_count": 409,
     "metadata": {},
     "output_type": "execute_result"
    },
    {
     "data": {
      "image/png": "[encoded data removed]",
      "text/plain": [
       "<Figure size 864x432 with 2 Axes>"
      ]
     },
     "metadata": {
      "needs_background": "light"
     },
     "output_type": "display_data"
    }
   ],
   "source": [
    "#Analisando a necessidade de normalização(log) tomando como exemplo os dados da coluna \"recursos_de_outros_candidatos/comites\"\n",
    "matplotlib.rcParams['figure.figsize'] = (12.0, 6.0)\n",
    "\n",
    "recursos_de_outros_candidatos_comites = pd.DataFrame({\"recursos_de_outros_candidatos/comites\":data[\"recursos_de_outros_candidatos/comites\"], \"log(recursos_de_outros_candidatos/comites + 1)\":np.log1p(data[\"recursos_de_outros_candidatos/comites\"])})\n",
    "recursos_de_outros_candidatos_comites.hist()"
   ]
  },
  {
   "cell_type": "code",
   "execution_count": 410,
   "metadata": {},
   "outputs": [
    {
     "data": {
      "text/plain": [
       "array([[<matplotlib.axes._subplots.AxesSubplot object at 0x000002429FF82198>,\n",
       "        <matplotlib.axes._subplots.AxesSubplot object at 0x00000242A0168978>]],\n",
       "      dtype=object)"
      ]
     },
     "execution_count": 410,
     "metadata": {},
     "output_type": "execute_result"
    },
    {
     "data": {
      "image/png": "[encoded data removed]",
      "text/plain": [
       "<Figure size 864x432 with 2 Axes>"
      ]
     },
     "metadata": {
      "needs_background": "light"
     },
     "output_type": "display_data"
    }
   ],
   "source": [
    "#Analisando a necessidade de normalização(log) tomando como exemplo os dados da coluna \"recursos_de_pessoas_fisicas\"\n",
    "matplotlib.rcParams['figure.figsize'] = (12.0, 6.0)\n",
    "\n",
    "recursos_de_pessoas_fisicas = pd.DataFrame({\"recursos_de_pessoas_fisicas\":data[\"recursos_de_pessoas_fisicas\"], \"log(recursos_de_pessoas_fisicas + 1)\":np.log1p(data[\"recursos_de_pessoas_fisicas\"])})\n",
    "recursos_de_pessoas_fisicas.hist()"
   ]
  },
  {
   "cell_type": "code",
   "execution_count": 411,
   "metadata": {},
   "outputs": [
    {
     "data": {
      "text/plain": [
       "array([[<matplotlib.axes._subplots.AxesSubplot object at 0x00000242A01C4B38>,\n",
       "        <matplotlib.axes._subplots.AxesSubplot object at 0x00000242A0251FD0>]],\n",
       "      dtype=object)"
      ]
     },
     "execution_count": 411,
     "metadata": {},
     "output_type": "execute_result"
    },
    {
     "data": {
      "image/png": "[encoded data removed]",
      "text/plain": [
       "<Figure size 864x432 with 2 Axes>"
      ]
     },
     "metadata": {
      "needs_background": "light"
     },
     "output_type": "display_data"
    }
   ],
   "source": [
    "#Analisando a necessidade de normalização(log) tomando como exemplo os dados da coluna \"recursos_de_pessoas_juridicas\"\n",
    "matplotlib.rcParams['figure.figsize'] = (12.0, 6.0)\n",
    "\n",
    "recursos_de_pessoas_juridicas = pd.DataFrame({\"recursos_de_pessoas_juridicas\":data[\"recursos_de_pessoas_juridicas\"], \"log(recursos_de_pessoas_juridicas + 1)\":np.log1p(data[\"recursos_de_pessoas_juridicas\"])})\n",
    "recursos_de_pessoas_juridicas.hist()"
   ]
  },
  {
   "cell_type": "code",
   "execution_count": 412,
   "metadata": {
    "scrolled": true
   },
   "outputs": [
    {
     "data": {
      "text/plain": [
       "array([[<matplotlib.axes._subplots.AxesSubplot object at 0x00000242A0219978>,\n",
       "        <matplotlib.axes._subplots.AxesSubplot object at 0x00000242A05C2588>]],\n",
       "      dtype=object)"
      ]
     },
     "execution_count": 412,
     "metadata": {},
     "output_type": "execute_result"
    },
    {
     "data": {
      "image/png": "[encoded data removed]",
      "text/plain": [
       "<Figure size 864x432 with 2 Axes>"
      ]
     },
     "metadata": {
      "needs_background": "light"
     },
     "output_type": "display_data"
    }
   ],
   "source": [
    "#Analisando a necessidade de normalização(log) tomando como exemplo os dados da coluna \"recursos_proprios\"\n",
    "matplotlib.rcParams['figure.figsize'] = (12.0, 6.0)\n",
    "\n",
    "recursos_proprios = pd.DataFrame({\"recursos_proprios\":data[\"recursos_de_pessoas_juridicas\"], \"log(recursos_proprios + 1)\":np.log1p(data[\"recursos_proprios\"])})\n",
    "recursos_proprios.hist()"
   ]
  },
  {
   "cell_type": "code",
   "execution_count": 413,
   "metadata": {
    "scrolled": true
   },
   "outputs": [
    {
     "data": {
      "text/plain": [
       "array([[<matplotlib.axes._subplots.AxesSubplot object at 0x00000242A067DA58>,\n",
       "        <matplotlib.axes._subplots.AxesSubplot object at 0x000002429A1BB7B8>]],\n",
       "      dtype=object)"
      ]
     },
     "execution_count": 413,
     "metadata": {},
     "output_type": "execute_result"
    },
    {
     "data": {
      "image/png": "[encoded data removed]",
      "text/plain": [
       "<Figure size 864x432 with 2 Axes>"
      ]
     },
     "metadata": {
      "needs_background": "light"
     },
     "output_type": "display_data"
    }
   ],
   "source": [
    "#Analisando a necessidade de normalização(log) tomando como exemplo os dados da coluna \"quantidade_despesas\"\n",
    "matplotlib.rcParams['figure.figsize'] = (12.0, 6.0)\n",
    "\n",
    "quantidade_despesas = pd.DataFrame({\"quantidade_despesas\":data[\"quantidade_despesas\"], \"log(quantidade_despesas + 1)\":np.log1p(data[\"quantidade_despesas\"])})\n",
    "quantidade_despesas.hist()"
   ]
  },
  {
   "cell_type": "code",
   "execution_count": 414,
   "metadata": {},
   "outputs": [
    {
     "data": {
      "text/plain": [
       "array([[<matplotlib.axes._subplots.AxesSubplot object at 0x000002429A315AC8>,\n",
       "        <matplotlib.axes._subplots.AxesSubplot object at 0x000002429A3A5BE0>]],\n",
       "      dtype=object)"
      ]
     },
     "execution_count": 414,
     "metadata": {},
     "output_type": "execute_result"
    },
    {
     "data": {
      "image/png": "[encoded data removed]",
      "text/plain": [
       "<Figure size 864x432 with 2 Axes>"
      ]
     },
     "metadata": {
      "needs_background": "light"
     },
     "output_type": "display_data"
    }
   ],
   "source": [
    "#Analisando a necessidade de normalização(log) tomando como exemplo os dados da coluna \"total_despesa\"\n",
    "matplotlib.rcParams['figure.figsize'] = (12.0, 6.0)\n",
    "\n",
    "total_despesa = pd.DataFrame({\"total_despesa\":data[\"total_despesa\"], \"log(total_despesa + 1)\":np.log1p(data[\"total_despesa\"])})\n",
    "total_despesa.hist()"
   ]
  },
  {
   "cell_type": "code",
   "execution_count": 415,
   "metadata": {
    "scrolled": true
   },
   "outputs": [
    {
     "data": {
      "text/plain": [
       "array([[<matplotlib.axes._subplots.AxesSubplot object at 0x00000242A06473C8>,\n",
       "        <matplotlib.axes._subplots.AxesSubplot object at 0x000002429E9C6D68>]],\n",
       "      dtype=object)"
      ]
     },
     "execution_count": 415,
     "metadata": {},
     "output_type": "execute_result"
    },
    {
     "data": {
      "image/png": "[encoded data removed]",
      "text/plain": [
       "<Figure size 864x432 with 2 Axes>"
      ]
     },
     "metadata": {
      "needs_background": "light"
     },
     "output_type": "display_data"
    }
   ],
   "source": [
    "#Analisando a necessidade de normalização(log) tomando como exemplo os dados da coluna \"media_despesa\"\n",
    "matplotlib.rcParams['figure.figsize'] = (12.0, 6.0)\n",
    "\n",
    "media_despesa = pd.DataFrame({\"media_despesa\":data[\"media_despesa\"], \"log(media_despesa + 1)\":np.log1p(data[\"media_despesa\"])})\n",
    "media_despesa.hist()"
   ]
  },
  {
   "cell_type": "markdown",
   "metadata": {},
   "source": [
    "Obervando as disctribuilões originais de todas as colunas com informações numéricas, percebemos que todas precisam passar por um processo de normalização dos dados."
   ]
  },
  {
   "cell_type": "code",
   "execution_count": 416,
   "metadata": {},
   "outputs": [],
   "source": [
    "#Transformando os dados originais em dados normalizados 2006 e 2010 \n",
    "\n",
    "numeric_feats = data.dtypes[data.dtypes != \"object\"].index\n",
    "\n",
    "skewed_feats = data[numeric_feats].apply(lambda x: skew(x.dropna())) #compute skewness\n",
    "skewed_feats = skewed_feats[skewed_feats > 0.75]\n",
    "skewed_feats = skewed_feats.index\n",
    "\n",
    "data[skewed_feats] = np.log1p(data[skewed_feats])"
   ]
  },
  {
   "cell_type": "code",
   "execution_count": 417,
   "metadata": {},
   "outputs": [],
   "source": [
    "#Transformando os dados originais em dados normalizados 2014\n",
    "\n",
    "numeric_feats = data2014.dtypes[data2014.dtypes != \"object\"].index\n",
    "\n",
    "skewed_feats = data2014[numeric_feats].apply(lambda x: skew(x.dropna())) #compute skewness\n",
    "skewed_feats = skewed_feats[skewed_feats > 0.75]\n",
    "skewed_feats = skewed_feats.index\n",
    "\n",
    "data2014[skewed_feats] = np.log1p(data2014[skewed_feats])"
   ]
  },
  {
   "cell_type": "code",
   "execution_count": 418,
   "metadata": {},
   "outputs": [
    {
     "data": {
      "text/html": [
       "<div>\n",
       "<style scoped>\n",
       "    .dataframe tbody tr th:only-of-type {\n",
       "        vertical-align: middle;\n",
       "    }\n",
       "\n",
       "    .dataframe tbody tr th {\n",
       "        vertical-align: top;\n",
       "    }\n",
       "\n",
       "    .dataframe thead th {\n",
       "        text-align: right;\n",
       "    }\n",
       "</style>\n",
       "<table border=\"1\" class=\"dataframe\">\n",
       "  <thead>\n",
       "    <tr style=\"text-align: right;\">\n",
       "      <th></th>\n",
       "      <th>ano</th>\n",
       "      <th>uf</th>\n",
       "      <th>partido</th>\n",
       "      <th>quantidade_doacoes</th>\n",
       "      <th>total_receita</th>\n",
       "      <th>media_receita</th>\n",
       "      <th>recursos_de_outros_candidatos/comites</th>\n",
       "      <th>recursos_de_pessoas_fisicas</th>\n",
       "      <th>recursos_de_pessoas_juridicas</th>\n",
       "      <th>recursos_proprios</th>\n",
       "      <th>quantidade_despesas</th>\n",
       "      <th>total_despesa</th>\n",
       "      <th>media_despesa</th>\n",
       "      <th>sexo</th>\n",
       "      <th>grau</th>\n",
       "      <th>estado_civil</th>\n",
       "      <th>votos</th>\n",
       "    </tr>\n",
       "  </thead>\n",
       "  <tbody>\n",
       "    <tr>\n",
       "      <th>0</th>\n",
       "      <td>2006</td>\n",
       "      <td>AP</td>\n",
       "      <td>PT</td>\n",
       "      <td>1.945910</td>\n",
       "      <td>9.717218</td>\n",
       "      <td>7.925760</td>\n",
       "      <td>NaN</td>\n",
       "      <td>9.105091</td>\n",
       "      <td>8.748464</td>\n",
       "      <td>7.170888</td>\n",
       "      <td>2.708050</td>\n",
       "      <td>9.716230</td>\n",
       "      <td>7.077956</td>\n",
       "      <td>MASCULINO</td>\n",
       "      <td>ENSINO MÉDIO COMPLETO</td>\n",
       "      <td>CASADO(A)</td>\n",
       "      <td>9.057189</td>\n",
       "    </tr>\n",
       "    <tr>\n",
       "      <th>1</th>\n",
       "      <td>2006</td>\n",
       "      <td>RO</td>\n",
       "      <td>PT</td>\n",
       "      <td>2.639057</td>\n",
       "      <td>10.035699</td>\n",
       "      <td>7.471276</td>\n",
       "      <td>8.798757</td>\n",
       "      <td>9.615872</td>\n",
       "      <td>6.908755</td>\n",
       "      <td>5.308268</td>\n",
       "      <td>3.218876</td>\n",
       "      <td>9.919705</td>\n",
       "      <td>6.785292</td>\n",
       "      <td>FEMININO</td>\n",
       "      <td>SUPERIOR COMPLETO</td>\n",
       "      <td>SOLTEIRO(A)</td>\n",
       "      <td>7.922261</td>\n",
       "    </tr>\n",
       "    <tr>\n",
       "      <th>2</th>\n",
       "      <td>2006</td>\n",
       "      <td>AP</td>\n",
       "      <td>PT</td>\n",
       "      <td>2.890372</td>\n",
       "      <td>11.905790</td>\n",
       "      <td>9.133303</td>\n",
       "      <td>7.719130</td>\n",
       "      <td>10.438547</td>\n",
       "      <td>11.038461</td>\n",
       "      <td>10.993748</td>\n",
       "      <td>4.820282</td>\n",
       "      <td>11.891449</td>\n",
       "      <td>7.210050</td>\n",
       "      <td>FEMININO</td>\n",
       "      <td>SUPERIOR COMPLETO</td>\n",
       "      <td>VIÚVO(A)</td>\n",
       "      <td>9.765891</td>\n",
       "    </tr>\n",
       "    <tr>\n",
       "      <th>3</th>\n",
       "      <td>2006</td>\n",
       "      <td>MS</td>\n",
       "      <td>PRONA</td>\n",
       "      <td>1.945910</td>\n",
       "      <td>8.007074</td>\n",
       "      <td>6.216979</td>\n",
       "      <td>NaN</td>\n",
       "      <td>7.048386</td>\n",
       "      <td>7.004991</td>\n",
       "      <td>6.621406</td>\n",
       "      <td>2.197225</td>\n",
       "      <td>8.007074</td>\n",
       "      <td>5.929961</td>\n",
       "      <td>MASCULINO</td>\n",
       "      <td>ENSINO MÉDIO INCOMPLETO</td>\n",
       "      <td>CASADO(A)</td>\n",
       "      <td>7.085064</td>\n",
       "    </tr>\n",
       "    <tr>\n",
       "      <th>4</th>\n",
       "      <td>2006</td>\n",
       "      <td>RO</td>\n",
       "      <td>PT</td>\n",
       "      <td>3.891820</td>\n",
       "      <td>NaN</td>\n",
       "      <td>NaN</td>\n",
       "      <td>NaN</td>\n",
       "      <td>10.837206</td>\n",
       "      <td>NaN</td>\n",
       "      <td>11.141035</td>\n",
       "      <td>4.897840</td>\n",
       "      <td>11.664939</td>\n",
       "      <td>6.878469</td>\n",
       "      <td>MASCULINO</td>\n",
       "      <td>ENSINO FUNDAMENTAL COMPLETO</td>\n",
       "      <td>CASADO(A)</td>\n",
       "      <td>10.288818</td>\n",
       "    </tr>\n",
       "  </tbody>\n",
       "</table>\n",
       "</div>"
      ],
      "text/plain": [
       "    ano  uf partido  quantidade_doacoes  total_receita  media_receita  \\\n",
       "0  2006  AP      PT            1.945910       9.717218       7.925760   \n",
       "1  2006  RO      PT            2.639057      10.035699       7.471276   \n",
       "2  2006  AP      PT            2.890372      11.905790       9.133303   \n",
       "3  2006  MS   PRONA            1.945910       8.007074       6.216979   \n",
       "4  2006  RO      PT            3.891820            NaN            NaN   \n",
       "\n",
       "   recursos_de_outros_candidatos/comites  recursos_de_pessoas_fisicas  \\\n",
       "0                                    NaN                     9.105091   \n",
       "1                               8.798757                     9.615872   \n",
       "2                               7.719130                    10.438547   \n",
       "3                                    NaN                     7.048386   \n",
       "4                                    NaN                    10.837206   \n",
       "\n",
       "   recursos_de_pessoas_juridicas  recursos_proprios  quantidade_despesas  \\\n",
       "0                       8.748464           7.170888             2.708050   \n",
       "1                       6.908755           5.308268             3.218876   \n",
       "2                      11.038461          10.993748             4.820282   \n",
       "3                       7.004991           6.621406             2.197225   \n",
       "4                            NaN          11.141035             4.897840   \n",
       "\n",
       "   total_despesa  media_despesa       sexo                         grau  \\\n",
       "0       9.716230       7.077956  MASCULINO        ENSINO MÉDIO COMPLETO   \n",
       "1       9.919705       6.785292   FEMININO            SUPERIOR COMPLETO   \n",
       "2      11.891449       7.210050   FEMININO            SUPERIOR COMPLETO   \n",
       "3       8.007074       5.929961  MASCULINO      ENSINO MÉDIO INCOMPLETO   \n",
       "4      11.664939       6.878469  MASCULINO  ENSINO FUNDAMENTAL COMPLETO   \n",
       "\n",
       "  estado_civil      votos  \n",
       "0    CASADO(A)   9.057189  \n",
       "1  SOLTEIRO(A)   7.922261  \n",
       "2     VIÚVO(A)   9.765891  \n",
       "3    CASADO(A)   7.085064  \n",
       "4    CASADO(A)  10.288818  "
      ]
     },
     "execution_count": 418,
     "metadata": {},
     "output_type": "execute_result"
    }
   ],
   "source": [
    "#Primeiras linhas\n",
    "data.head()"
   ]
  },
  {
   "cell_type": "code",
   "execution_count": 419,
   "metadata": {},
   "outputs": [
    {
     "data": {
      "text/html": [
       "<div>\n",
       "<style scoped>\n",
       "    .dataframe tbody tr th:only-of-type {\n",
       "        vertical-align: middle;\n",
       "    }\n",
       "\n",
       "    .dataframe tbody tr th {\n",
       "        vertical-align: top;\n",
       "    }\n",
       "\n",
       "    .dataframe thead th {\n",
       "        text-align: right;\n",
       "    }\n",
       "</style>\n",
       "<table border=\"1\" class=\"dataframe\">\n",
       "  <thead>\n",
       "    <tr style=\"text-align: right;\">\n",
       "      <th></th>\n",
       "      <th>ano</th>\n",
       "      <th>uf</th>\n",
       "      <th>partido</th>\n",
       "      <th>quantidade_doacoes</th>\n",
       "      <th>total_receita</th>\n",
       "      <th>media_receita</th>\n",
       "      <th>recursos_de_outros_candidatos/comites</th>\n",
       "      <th>recursos_de_pessoas_fisicas</th>\n",
       "      <th>recursos_de_pessoas_juridicas</th>\n",
       "      <th>recursos_proprios</th>\n",
       "      <th>quantidade_despesas</th>\n",
       "      <th>total_despesa</th>\n",
       "      <th>media_despesa</th>\n",
       "      <th>sexo</th>\n",
       "      <th>grau</th>\n",
       "      <th>estado_civil</th>\n",
       "      <th>votos</th>\n",
       "    </tr>\n",
       "  </thead>\n",
       "  <tbody>\n",
       "    <tr>\n",
       "      <th>7325</th>\n",
       "      <td>2010</td>\n",
       "      <td>TO</td>\n",
       "      <td>PSC</td>\n",
       "      <td>1.386294</td>\n",
       "      <td>8.122965</td>\n",
       "      <td>7.024946</td>\n",
       "      <td>5.916202</td>\n",
       "      <td>NaN</td>\n",
       "      <td>NaN</td>\n",
       "      <td>8.006701</td>\n",
       "      <td>2.833213</td>\n",
       "      <td>8.121008</td>\n",
       "      <td>5.352868</td>\n",
       "      <td>MASCULINO</td>\n",
       "      <td>SUPERIOR COMPLETO</td>\n",
       "      <td>CASADO(A)</td>\n",
       "      <td>8.011023</td>\n",
       "    </tr>\n",
       "    <tr>\n",
       "      <th>7326</th>\n",
       "      <td>2010</td>\n",
       "      <td>TO</td>\n",
       "      <td>PR</td>\n",
       "      <td>6.573680</td>\n",
       "      <td>13.849259</td>\n",
       "      <td>7.290325</td>\n",
       "      <td>12.263424</td>\n",
       "      <td>12.975068</td>\n",
       "      <td>12.063939</td>\n",
       "      <td>10.257694</td>\n",
       "      <td>7.413970</td>\n",
       "      <td>13.611727</td>\n",
       "      <td>6.462587</td>\n",
       "      <td>MASCULINO</td>\n",
       "      <td>SUPERIOR COMPLETO</td>\n",
       "      <td>CASADO(A)</td>\n",
       "      <td>10.490746</td>\n",
       "    </tr>\n",
       "    <tr>\n",
       "      <th>7327</th>\n",
       "      <td>2010</td>\n",
       "      <td>TO</td>\n",
       "      <td>PTB</td>\n",
       "      <td>1.098612</td>\n",
       "      <td>7.863651</td>\n",
       "      <td>7.170888</td>\n",
       "      <td>NaN</td>\n",
       "      <td>NaN</td>\n",
       "      <td>NaN</td>\n",
       "      <td>6.398595</td>\n",
       "      <td>1.098612</td>\n",
       "      <td>7.863651</td>\n",
       "      <td>7.170888</td>\n",
       "      <td>MASCULINO</td>\n",
       "      <td>SUPERIOR INCOMPLETO</td>\n",
       "      <td>CASADO(A)</td>\n",
       "      <td>3.044522</td>\n",
       "    </tr>\n",
       "    <tr>\n",
       "      <th>7328</th>\n",
       "      <td>2010</td>\n",
       "      <td>TO</td>\n",
       "      <td>PR</td>\n",
       "      <td>1.098612</td>\n",
       "      <td>8.551788</td>\n",
       "      <td>7.858834</td>\n",
       "      <td>8.124447</td>\n",
       "      <td>7.496097</td>\n",
       "      <td>NaN</td>\n",
       "      <td>NaN</td>\n",
       "      <td>1.098612</td>\n",
       "      <td>8.551788</td>\n",
       "      <td>7.858834</td>\n",
       "      <td>MASCULINO</td>\n",
       "      <td>SUPERIOR COMPLETO</td>\n",
       "      <td>CASADO(A)</td>\n",
       "      <td>5.683580</td>\n",
       "    </tr>\n",
       "    <tr>\n",
       "      <th>7329</th>\n",
       "      <td>2010</td>\n",
       "      <td>TO</td>\n",
       "      <td>PPS</td>\n",
       "      <td>2.639057</td>\n",
       "      <td>10.429807</td>\n",
       "      <td>7.945225</td>\n",
       "      <td>10.311771</td>\n",
       "      <td>6.216606</td>\n",
       "      <td>NaN</td>\n",
       "      <td>8.743556</td>\n",
       "      <td>3.871201</td>\n",
       "      <td>10.511638</td>\n",
       "      <td>6.684221</td>\n",
       "      <td>MASCULINO</td>\n",
       "      <td>SUPERIOR COMPLETO</td>\n",
       "      <td>CASADO(A)</td>\n",
       "      <td>7.130099</td>\n",
       "    </tr>\n",
       "  </tbody>\n",
       "</table>\n",
       "</div>"
      ],
      "text/plain": [
       "       ano  uf partido  quantidade_doacoes  total_receita  media_receita  \\\n",
       "7325  2010  TO     PSC            1.386294       8.122965       7.024946   \n",
       "7326  2010  TO      PR            6.573680      13.849259       7.290325   \n",
       "7327  2010  TO     PTB            1.098612       7.863651       7.170888   \n",
       "7328  2010  TO      PR            1.098612       8.551788       7.858834   \n",
       "7329  2010  TO     PPS            2.639057      10.429807       7.945225   \n",
       "\n",
       "      recursos_de_outros_candidatos/comites  recursos_de_pessoas_fisicas  \\\n",
       "7325                               5.916202                          NaN   \n",
       "7326                              12.263424                    12.975068   \n",
       "7327                                    NaN                          NaN   \n",
       "7328                               8.124447                     7.496097   \n",
       "7329                              10.311771                     6.216606   \n",
       "\n",
       "      recursos_de_pessoas_juridicas  recursos_proprios  quantidade_despesas  \\\n",
       "7325                            NaN           8.006701             2.833213   \n",
       "7326                      12.063939          10.257694             7.413970   \n",
       "7327                            NaN           6.398595             1.098612   \n",
       "7328                            NaN                NaN             1.098612   \n",
       "7329                            NaN           8.743556             3.871201   \n",
       "\n",
       "      total_despesa  media_despesa       sexo                 grau  \\\n",
       "7325       8.121008       5.352868  MASCULINO    SUPERIOR COMPLETO   \n",
       "7326      13.611727       6.462587  MASCULINO    SUPERIOR COMPLETO   \n",
       "7327       7.863651       7.170888  MASCULINO  SUPERIOR INCOMPLETO   \n",
       "7328       8.551788       7.858834  MASCULINO    SUPERIOR COMPLETO   \n",
       "7329      10.511638       6.684221  MASCULINO    SUPERIOR COMPLETO   \n",
       "\n",
       "     estado_civil      votos  \n",
       "7325    CASADO(A)   8.011023  \n",
       "7326    CASADO(A)  10.490746  \n",
       "7327    CASADO(A)   3.044522  \n",
       "7328    CASADO(A)   5.683580  \n",
       "7329    CASADO(A)   7.130099  "
      ]
     },
     "execution_count": 419,
     "metadata": {},
     "output_type": "execute_result"
    }
   ],
   "source": [
    "#Últimas linhas\n",
    "data.tail()"
   ]
  },
  {
   "cell_type": "markdown",
   "metadata": {},
   "source": [
    "# Tratando dados inexistentes"
   ]
  },
  {
   "cell_type": "markdown",
   "metadata": {},
   "source": [
    "Obervando os dados para construção do modelo, percebemos que algumas colunas estão sem informação (NA). Vamos tratar esses dados preenchendo-os com a mediana da coluna a qual ele pertence, além disso, transformar as variáveis categóricas."
   ]
  },
  {
   "cell_type": "code",
   "execution_count": 420,
   "metadata": {},
   "outputs": [],
   "source": [
    "# Dados 2006 e 2010\n",
    "# Colunas com valores numéricos\n",
    "columns_values = ['quantidade_doacoes', 'total_receita', 'media_receita', \n",
    "                    'recursos_de_outros_candidatos/comites', 'recursos_de_pessoas_fisicas', 'recursos_de_pessoas_juridicas',\n",
    "                    'recursos_proprios', 'quantidade_despesas', 'total_despesa', 'media_despesa']\n",
    "\n",
    "columns_categories = ['uf','partido', 'sexo', 'grau', 'estado_civil']\n",
    "\n",
    "# TRanformando dados categóricos\n",
    "data_dummies = pd.get_dummies(pd.DataFrame(data[columns_categories]))\n",
    "\n",
    "# Inserindo a mediana de cada coluna no valores NA de cada coluna\n",
    "data_values = data[columns_values]\n",
    "data[columns_values] = data_values.fillna(data_values.median())\n",
    "\n",
    "# Unindo os novos dados categóricos com os novos dados para valores NA\n",
    "data = pd.concat([data, data_dummies], axis=1, sort=False)\n",
    "\n",
    "# Removendo colunas categóricas originais\n",
    "data_processed = data.drop(columns_categories, axis=1)"
   ]
  },
  {
   "cell_type": "code",
   "execution_count": 421,
   "metadata": {},
   "outputs": [],
   "source": [
    "# Dados 2006 e 2014\n",
    "# Colunas com valores numéricos\n",
    "columns_values = ['quantidade_doacoes', 'total_receita', 'media_receita', \n",
    "                    'recursos_de_outros_candidatos/comites', 'recursos_de_pessoas_fisicas', 'recursos_de_pessoas_juridicas',\n",
    "                    'recursos_proprios', 'quantidade_despesas', 'total_despesa', 'media_despesa']\n",
    "\n",
    "columns_categories = ['uf','partido', 'sexo', 'grau', 'estado_civil']\n",
    "\n",
    "# TRanformando dados categóricos\n",
    "data_dummies = pd.get_dummies(pd.DataFrame(data2014[columns_categories]))\n",
    "\n",
    "# Inserindo a mediana de cada coluna no valores NA de cada coluna\n",
    "data_values = data2014[columns_values]\n",
    "data2014[columns_values] = data_values.fillna(data_values.median())\n",
    "\n",
    "# Unindo os novos dados categóricos com os novos dados para valores NA\n",
    "data2014 = pd.concat([data2014, data_dummies], axis=1, sort=False)\n",
    "\n",
    "# Removendo colunas categóricas originais\n",
    "data_2014 = data2014.drop(columns_categories, axis=1)"
   ]
  },
  {
   "cell_type": "code",
   "execution_count": 422,
   "metadata": {
    "scrolled": true
   },
   "outputs": [
    {
     "data": {
      "text/html": [
       "<div>\n",
       "<style scoped>\n",
       "    .dataframe tbody tr th:only-of-type {\n",
       "        vertical-align: middle;\n",
       "    }\n",
       "\n",
       "    .dataframe tbody tr th {\n",
       "        vertical-align: top;\n",
       "    }\n",
       "\n",
       "    .dataframe thead th {\n",
       "        text-align: right;\n",
       "    }\n",
       "</style>\n",
       "<table border=\"1\" class=\"dataframe\">\n",
       "  <thead>\n",
       "    <tr style=\"text-align: right;\">\n",
       "      <th></th>\n",
       "      <th>ano</th>\n",
       "      <th>quantidade_doacoes</th>\n",
       "      <th>total_receita</th>\n",
       "      <th>media_receita</th>\n",
       "      <th>recursos_de_outros_candidatos/comites</th>\n",
       "      <th>recursos_de_pessoas_fisicas</th>\n",
       "      <th>recursos_de_pessoas_juridicas</th>\n",
       "      <th>recursos_proprios</th>\n",
       "      <th>quantidade_despesas</th>\n",
       "      <th>total_despesa</th>\n",
       "      <th>...</th>\n",
       "      <th>grau_ENSINO MÉDIO COMPLETO</th>\n",
       "      <th>grau_ENSINO MÉDIO INCOMPLETO</th>\n",
       "      <th>grau_LÊ E ESCREVE</th>\n",
       "      <th>grau_SUPERIOR COMPLETO</th>\n",
       "      <th>grau_SUPERIOR INCOMPLETO</th>\n",
       "      <th>estado_civil_CASADO(A)</th>\n",
       "      <th>estado_civil_DIVORCIADO(A)</th>\n",
       "      <th>estado_civil_SEPARADO(A) JUDICIALMENTE</th>\n",
       "      <th>estado_civil_SOLTEIRO(A)</th>\n",
       "      <th>estado_civil_VIÚVO(A)</th>\n",
       "    </tr>\n",
       "  </thead>\n",
       "  <tbody>\n",
       "    <tr>\n",
       "      <th>0</th>\n",
       "      <td>2006</td>\n",
       "      <td>1.945910</td>\n",
       "      <td>9.717218</td>\n",
       "      <td>7.925760</td>\n",
       "      <td>8.167230</td>\n",
       "      <td>9.105091</td>\n",
       "      <td>8.748464</td>\n",
       "      <td>7.170888</td>\n",
       "      <td>2.708050</td>\n",
       "      <td>9.716230</td>\n",
       "      <td>...</td>\n",
       "      <td>1</td>\n",
       "      <td>0</td>\n",
       "      <td>0</td>\n",
       "      <td>0</td>\n",
       "      <td>0</td>\n",
       "      <td>1</td>\n",
       "      <td>0</td>\n",
       "      <td>0</td>\n",
       "      <td>0</td>\n",
       "      <td>0</td>\n",
       "    </tr>\n",
       "    <tr>\n",
       "      <th>1</th>\n",
       "      <td>2006</td>\n",
       "      <td>2.639057</td>\n",
       "      <td>10.035699</td>\n",
       "      <td>7.471276</td>\n",
       "      <td>8.798757</td>\n",
       "      <td>9.615872</td>\n",
       "      <td>6.908755</td>\n",
       "      <td>5.308268</td>\n",
       "      <td>3.218876</td>\n",
       "      <td>9.919705</td>\n",
       "      <td>...</td>\n",
       "      <td>0</td>\n",
       "      <td>0</td>\n",
       "      <td>0</td>\n",
       "      <td>1</td>\n",
       "      <td>0</td>\n",
       "      <td>0</td>\n",
       "      <td>0</td>\n",
       "      <td>0</td>\n",
       "      <td>1</td>\n",
       "      <td>0</td>\n",
       "    </tr>\n",
       "    <tr>\n",
       "      <th>2</th>\n",
       "      <td>2006</td>\n",
       "      <td>2.890372</td>\n",
       "      <td>11.905790</td>\n",
       "      <td>9.133303</td>\n",
       "      <td>7.719130</td>\n",
       "      <td>10.438547</td>\n",
       "      <td>11.038461</td>\n",
       "      <td>10.993748</td>\n",
       "      <td>4.820282</td>\n",
       "      <td>11.891449</td>\n",
       "      <td>...</td>\n",
       "      <td>0</td>\n",
       "      <td>0</td>\n",
       "      <td>0</td>\n",
       "      <td>1</td>\n",
       "      <td>0</td>\n",
       "      <td>0</td>\n",
       "      <td>0</td>\n",
       "      <td>0</td>\n",
       "      <td>0</td>\n",
       "      <td>1</td>\n",
       "    </tr>\n",
       "    <tr>\n",
       "      <th>3</th>\n",
       "      <td>2006</td>\n",
       "      <td>1.945910</td>\n",
       "      <td>8.007074</td>\n",
       "      <td>6.216979</td>\n",
       "      <td>8.167230</td>\n",
       "      <td>7.048386</td>\n",
       "      <td>7.004991</td>\n",
       "      <td>6.621406</td>\n",
       "      <td>2.197225</td>\n",
       "      <td>8.007074</td>\n",
       "      <td>...</td>\n",
       "      <td>0</td>\n",
       "      <td>1</td>\n",
       "      <td>0</td>\n",
       "      <td>0</td>\n",
       "      <td>0</td>\n",
       "      <td>1</td>\n",
       "      <td>0</td>\n",
       "      <td>0</td>\n",
       "      <td>0</td>\n",
       "      <td>0</td>\n",
       "    </tr>\n",
       "    <tr>\n",
       "      <th>4</th>\n",
       "      <td>2006</td>\n",
       "      <td>3.891820</td>\n",
       "      <td>9.400695</td>\n",
       "      <td>7.340539</td>\n",
       "      <td>8.167230</td>\n",
       "      <td>10.837206</td>\n",
       "      <td>10.170492</td>\n",
       "      <td>11.141035</td>\n",
       "      <td>4.897840</td>\n",
       "      <td>11.664939</td>\n",
       "      <td>...</td>\n",
       "      <td>0</td>\n",
       "      <td>0</td>\n",
       "      <td>0</td>\n",
       "      <td>0</td>\n",
       "      <td>0</td>\n",
       "      <td>1</td>\n",
       "      <td>0</td>\n",
       "      <td>0</td>\n",
       "      <td>0</td>\n",
       "      <td>0</td>\n",
       "    </tr>\n",
       "  </tbody>\n",
       "</table>\n",
       "<p>5 rows × 84 columns</p>\n",
       "</div>"
      ],
      "text/plain": [
       "    ano  quantidade_doacoes  total_receita  media_receita  \\\n",
       "0  2006            1.945910       9.717218       7.925760   \n",
       "1  2006            2.639057      10.035699       7.471276   \n",
       "2  2006            2.890372      11.905790       9.133303   \n",
       "3  2006            1.945910       8.007074       6.216979   \n",
       "4  2006            3.891820       9.400695       7.340539   \n",
       "\n",
       "   recursos_de_outros_candidatos/comites  recursos_de_pessoas_fisicas  \\\n",
       "0                               8.167230                     9.105091   \n",
       "1                               8.798757                     9.615872   \n",
       "2                               7.719130                    10.438547   \n",
       "3                               8.167230                     7.048386   \n",
       "4                               8.167230                    10.837206   \n",
       "\n",
       "   recursos_de_pessoas_juridicas  recursos_proprios  quantidade_despesas  \\\n",
       "0                       8.748464           7.170888             2.708050   \n",
       "1                       6.908755           5.308268             3.218876   \n",
       "2                      11.038461          10.993748             4.820282   \n",
       "3                       7.004991           6.621406             2.197225   \n",
       "4                      10.170492          11.141035             4.897840   \n",
       "\n",
       "   total_despesa          ...            grau_ENSINO MÉDIO COMPLETO  \\\n",
       "0       9.716230          ...                                     1   \n",
       "1       9.919705          ...                                     0   \n",
       "2      11.891449          ...                                     0   \n",
       "3       8.007074          ...                                     0   \n",
       "4      11.664939          ...                                     0   \n",
       "\n",
       "   grau_ENSINO MÉDIO INCOMPLETO  grau_LÊ E ESCREVE  grau_SUPERIOR COMPLETO  \\\n",
       "0                             0                  0                       0   \n",
       "1                             0                  0                       1   \n",
       "2                             0                  0                       1   \n",
       "3                             1                  0                       0   \n",
       "4                             0                  0                       0   \n",
       "\n",
       "   grau_SUPERIOR INCOMPLETO  estado_civil_CASADO(A)  \\\n",
       "0                         0                       1   \n",
       "1                         0                       0   \n",
       "2                         0                       0   \n",
       "3                         0                       1   \n",
       "4                         0                       1   \n",
       "\n",
       "   estado_civil_DIVORCIADO(A)  estado_civil_SEPARADO(A) JUDICIALMENTE  \\\n",
       "0                           0                                       0   \n",
       "1                           0                                       0   \n",
       "2                           0                                       0   \n",
       "3                           0                                       0   \n",
       "4                           0                                       0   \n",
       "\n",
       "   estado_civil_SOLTEIRO(A)  estado_civil_VIÚVO(A)  \n",
       "0                         0                      0  \n",
       "1                         1                      0  \n",
       "2                         0                      1  \n",
       "3                         0                      0  \n",
       "4                         0                      0  \n",
       "\n",
       "[5 rows x 84 columns]"
      ]
     },
     "execution_count": 422,
     "metadata": {},
     "output_type": "execute_result"
    }
   ],
   "source": [
    "#Primeiras linhas\n",
    "data_processed.head()"
   ]
  },
  {
   "cell_type": "code",
   "execution_count": 423,
   "metadata": {
    "scrolled": true
   },
   "outputs": [
    {
     "data": {
      "text/html": [
       "<div>\n",
       "<style scoped>\n",
       "    .dataframe tbody tr th:only-of-type {\n",
       "        vertical-align: middle;\n",
       "    }\n",
       "\n",
       "    .dataframe tbody tr th {\n",
       "        vertical-align: top;\n",
       "    }\n",
       "\n",
       "    .dataframe thead th {\n",
       "        text-align: right;\n",
       "    }\n",
       "</style>\n",
       "<table border=\"1\" class=\"dataframe\">\n",
       "  <thead>\n",
       "    <tr style=\"text-align: right;\">\n",
       "      <th></th>\n",
       "      <th>ano</th>\n",
       "      <th>quantidade_doacoes</th>\n",
       "      <th>total_receita</th>\n",
       "      <th>media_receita</th>\n",
       "      <th>recursos_de_outros_candidatos/comites</th>\n",
       "      <th>recursos_de_pessoas_fisicas</th>\n",
       "      <th>recursos_de_pessoas_juridicas</th>\n",
       "      <th>recursos_proprios</th>\n",
       "      <th>quantidade_despesas</th>\n",
       "      <th>total_despesa</th>\n",
       "      <th>...</th>\n",
       "      <th>grau_ENSINO MÉDIO COMPLETO</th>\n",
       "      <th>grau_ENSINO MÉDIO INCOMPLETO</th>\n",
       "      <th>grau_LÊ E ESCREVE</th>\n",
       "      <th>grau_SUPERIOR COMPLETO</th>\n",
       "      <th>grau_SUPERIOR INCOMPLETO</th>\n",
       "      <th>estado_civil_CASADO(A)</th>\n",
       "      <th>estado_civil_DIVORCIADO(A)</th>\n",
       "      <th>estado_civil_SEPARADO(A) JUDICIALMENTE</th>\n",
       "      <th>estado_civil_SOLTEIRO(A)</th>\n",
       "      <th>estado_civil_VIÚVO(A)</th>\n",
       "    </tr>\n",
       "  </thead>\n",
       "  <tbody>\n",
       "    <tr>\n",
       "      <th>7325</th>\n",
       "      <td>2010</td>\n",
       "      <td>1.386294</td>\n",
       "      <td>8.122965</td>\n",
       "      <td>7.024946</td>\n",
       "      <td>5.916202</td>\n",
       "      <td>9.105091</td>\n",
       "      <td>10.170492</td>\n",
       "      <td>8.006701</td>\n",
       "      <td>2.833213</td>\n",
       "      <td>8.121008</td>\n",
       "      <td>...</td>\n",
       "      <td>0</td>\n",
       "      <td>0</td>\n",
       "      <td>0</td>\n",
       "      <td>1</td>\n",
       "      <td>0</td>\n",
       "      <td>1</td>\n",
       "      <td>0</td>\n",
       "      <td>0</td>\n",
       "      <td>0</td>\n",
       "      <td>0</td>\n",
       "    </tr>\n",
       "    <tr>\n",
       "      <th>7326</th>\n",
       "      <td>2010</td>\n",
       "      <td>6.573680</td>\n",
       "      <td>13.849259</td>\n",
       "      <td>7.290325</td>\n",
       "      <td>12.263424</td>\n",
       "      <td>12.975068</td>\n",
       "      <td>12.063939</td>\n",
       "      <td>10.257694</td>\n",
       "      <td>7.413970</td>\n",
       "      <td>13.611727</td>\n",
       "      <td>...</td>\n",
       "      <td>0</td>\n",
       "      <td>0</td>\n",
       "      <td>0</td>\n",
       "      <td>1</td>\n",
       "      <td>0</td>\n",
       "      <td>1</td>\n",
       "      <td>0</td>\n",
       "      <td>0</td>\n",
       "      <td>0</td>\n",
       "      <td>0</td>\n",
       "    </tr>\n",
       "    <tr>\n",
       "      <th>7327</th>\n",
       "      <td>2010</td>\n",
       "      <td>1.098612</td>\n",
       "      <td>7.863651</td>\n",
       "      <td>7.170888</td>\n",
       "      <td>8.167230</td>\n",
       "      <td>9.105091</td>\n",
       "      <td>10.170492</td>\n",
       "      <td>6.398595</td>\n",
       "      <td>1.098612</td>\n",
       "      <td>7.863651</td>\n",
       "      <td>...</td>\n",
       "      <td>0</td>\n",
       "      <td>0</td>\n",
       "      <td>0</td>\n",
       "      <td>0</td>\n",
       "      <td>1</td>\n",
       "      <td>1</td>\n",
       "      <td>0</td>\n",
       "      <td>0</td>\n",
       "      <td>0</td>\n",
       "      <td>0</td>\n",
       "    </tr>\n",
       "    <tr>\n",
       "      <th>7328</th>\n",
       "      <td>2010</td>\n",
       "      <td>1.098612</td>\n",
       "      <td>8.551788</td>\n",
       "      <td>7.858834</td>\n",
       "      <td>8.124447</td>\n",
       "      <td>7.496097</td>\n",
       "      <td>10.170492</td>\n",
       "      <td>8.517393</td>\n",
       "      <td>1.098612</td>\n",
       "      <td>8.551788</td>\n",
       "      <td>...</td>\n",
       "      <td>0</td>\n",
       "      <td>0</td>\n",
       "      <td>0</td>\n",
       "      <td>1</td>\n",
       "      <td>0</td>\n",
       "      <td>1</td>\n",
       "      <td>0</td>\n",
       "      <td>0</td>\n",
       "      <td>0</td>\n",
       "      <td>0</td>\n",
       "    </tr>\n",
       "    <tr>\n",
       "      <th>7329</th>\n",
       "      <td>2010</td>\n",
       "      <td>2.639057</td>\n",
       "      <td>10.429807</td>\n",
       "      <td>7.945225</td>\n",
       "      <td>10.311771</td>\n",
       "      <td>6.216606</td>\n",
       "      <td>10.170492</td>\n",
       "      <td>8.743556</td>\n",
       "      <td>3.871201</td>\n",
       "      <td>10.511638</td>\n",
       "      <td>...</td>\n",
       "      <td>0</td>\n",
       "      <td>0</td>\n",
       "      <td>0</td>\n",
       "      <td>1</td>\n",
       "      <td>0</td>\n",
       "      <td>1</td>\n",
       "      <td>0</td>\n",
       "      <td>0</td>\n",
       "      <td>0</td>\n",
       "      <td>0</td>\n",
       "    </tr>\n",
       "  </tbody>\n",
       "</table>\n",
       "<p>5 rows × 84 columns</p>\n",
       "</div>"
      ],
      "text/plain": [
       "       ano  quantidade_doacoes  total_receita  media_receita  \\\n",
       "7325  2010            1.386294       8.122965       7.024946   \n",
       "7326  2010            6.573680      13.849259       7.290325   \n",
       "7327  2010            1.098612       7.863651       7.170888   \n",
       "7328  2010            1.098612       8.551788       7.858834   \n",
       "7329  2010            2.639057      10.429807       7.945225   \n",
       "\n",
       "      recursos_de_outros_candidatos/comites  recursos_de_pessoas_fisicas  \\\n",
       "7325                               5.916202                     9.105091   \n",
       "7326                              12.263424                    12.975068   \n",
       "7327                               8.167230                     9.105091   \n",
       "7328                               8.124447                     7.496097   \n",
       "7329                              10.311771                     6.216606   \n",
       "\n",
       "      recursos_de_pessoas_juridicas  recursos_proprios  quantidade_despesas  \\\n",
       "7325                      10.170492           8.006701             2.833213   \n",
       "7326                      12.063939          10.257694             7.413970   \n",
       "7327                      10.170492           6.398595             1.098612   \n",
       "7328                      10.170492           8.517393             1.098612   \n",
       "7329                      10.170492           8.743556             3.871201   \n",
       "\n",
       "      total_despesa          ...            grau_ENSINO MÉDIO COMPLETO  \\\n",
       "7325       8.121008          ...                                     0   \n",
       "7326      13.611727          ...                                     0   \n",
       "7327       7.863651          ...                                     0   \n",
       "7328       8.551788          ...                                     0   \n",
       "7329      10.511638          ...                                     0   \n",
       "\n",
       "      grau_ENSINO MÉDIO INCOMPLETO  grau_LÊ E ESCREVE  grau_SUPERIOR COMPLETO  \\\n",
       "7325                             0                  0                       1   \n",
       "7326                             0                  0                       1   \n",
       "7327                             0                  0                       0   \n",
       "7328                             0                  0                       1   \n",
       "7329                             0                  0                       1   \n",
       "\n",
       "      grau_SUPERIOR INCOMPLETO  estado_civil_CASADO(A)  \\\n",
       "7325                         0                       1   \n",
       "7326                         0                       1   \n",
       "7327                         1                       1   \n",
       "7328                         0                       1   \n",
       "7329                         0                       1   \n",
       "\n",
       "      estado_civil_DIVORCIADO(A)  estado_civil_SEPARADO(A) JUDICIALMENTE  \\\n",
       "7325                           0                                       0   \n",
       "7326                           0                                       0   \n",
       "7327                           0                                       0   \n",
       "7328                           0                                       0   \n",
       "7329                           0                                       0   \n",
       "\n",
       "      estado_civil_SOLTEIRO(A)  estado_civil_VIÚVO(A)  \n",
       "7325                         0                      0  \n",
       "7326                         0                      0  \n",
       "7327                         0                      0  \n",
       "7328                         0                      0  \n",
       "7329                         0                      0  \n",
       "\n",
       "[5 rows x 84 columns]"
      ]
     },
     "execution_count": 423,
     "metadata": {},
     "output_type": "execute_result"
    }
   ],
   "source": [
    "#Últimas linhas\n",
    "data_processed.tail()"
   ]
  },
  {
   "cell_type": "markdown",
   "metadata": {},
   "source": [
    "# Dividindo dados em treinamento e teste"
   ]
  },
  {
   "cell_type": "code",
   "execution_count": 424,
   "metadata": {},
   "outputs": [],
   "source": [
    "#Dados de treino\n",
    "data_2006 = data_processed[:3388]\n",
    "target_train = np.expm1(data_2006['votos'])\n",
    "data_train = data_2006.drop(['ano', 'votos'],axis=1)\n",
    "\n",
    "#Dados de teste\n",
    "data_2010 = data_processed[3389:]\n",
    "target_test = np.expm1(data_2010['votos'])\n",
    "data_test = data_2010.drop(['ano', 'votos'],axis=1)\n",
    "\n",
    "#Dados de treino para 2014\n",
    "target_2014 = np.expm1(data_2014['votos'])\n",
    "data_2014 = data_2014.drop(['ano', 'votos'],axis=1)"
   ]
  },
  {
   "cell_type": "code",
   "execution_count": 425,
   "metadata": {},
   "outputs": [],
   "source": [
    "#Método para retornar os erros (RMSE) da validação cruzada\n",
    "def rmse_cv(model, train, target):\n",
    "    rmse= np.sqrt(-cross_val_score(model, train, target, scoring=\"neg_mean_squared_error\", cv = 100))\n",
    "    return(rmse)"
   ]
  },
  {
   "cell_type": "markdown",
   "metadata": {},
   "source": [
    "# Construindo modelos de regressão sem regularização"
   ]
  },
  {
   "cell_type": "code",
   "execution_count": 426,
   "metadata": {
    "scrolled": true
   },
   "outputs": [
    {
     "name": "stdout",
     "output_type": "stream",
     "text": [
      "28518.47600903321\n"
     ]
    }
   ],
   "source": [
    "# Modelo linear\n",
    "model_linear = LinearRegression()\n",
    "\n",
    "# Computando o RMSE da validação cruzada\n",
    "cv_linear = rmse_cv(LinearRegression(), data_train, target_train).mean() \n",
    "print(cv_linear)"
   ]
  },
  {
   "cell_type": "markdown",
   "metadata": {},
   "source": [
    "O que podemos perceber é que o modelo linear obteve um RMSE médio = 28518.47600903321."
   ]
  },
  {
   "cell_type": "markdown",
   "metadata": {},
   "source": [
    "# Testando modelos de regressão sem regularização"
   ]
  },
  {
   "cell_type": "code",
   "execution_count": 427,
   "metadata": {},
   "outputs": [
    {
     "name": "stdout",
     "output_type": "stream",
     "text": [
      "1763027425018600.0\n"
     ]
    }
   ],
   "source": [
    "# Testando o modelo com os dados de 2010\n",
    "\n",
    "# Treinando o modelo\n",
    "linear = LinearRegression().fit(data_train, target_train)\n",
    "\n",
    "# Predizendo os votos de 2010\n",
    "target_test_predicted = linear.predict(data_test)\n",
    "\n",
    "# RMSE\n",
    "print(np.sqrt(mean_squared_error(target_test, target_test_predicted)))"
   ]
  },
  {
   "cell_type": "markdown",
   "metadata": {},
   "source": [
    "Após treinar o modelo predizemos os vatos de 2010. O resultado mostra que o erro aumentou no teste RMSE = 1763027425018600.0. Muito acima do erro na treino."
   ]
  },
  {
   "cell_type": "markdown",
   "metadata": {},
   "source": [
    "# Construindo modelos de regressão regularizados"
   ]
  },
  {
   "cell_type": "code",
   "execution_count": 428,
   "metadata": {},
   "outputs": [],
   "source": [
    "#Parâmetro de refinamento referente à taxa de regularização\n",
    "alphas = [10,11,12,13,14,15,16,17,18,19,20,21,22,23,24,25,26,27,28,29,30,31,32,33,34,35,36,37,38]\n",
    "ralphas = [10,11,12,13,14,15,16,17,18,19,20,21,22,23,24,25,26,27,28,29,30,31,32, 33, 34, 35, 36, 37, 38]"
   ]
  },
  {
   "cell_type": "markdown",
   "metadata": {},
   "source": [
    "# Testando modelo linear com regularização Ridge"
   ]
  },
  {
   "cell_type": "code",
   "execution_count": 429,
   "metadata": {},
   "outputs": [
    {
     "name": "stdout",
     "output_type": "stream",
     "text": [
      "[10, 11, 12, 13, 14, 15, 16, 17, 18, 19, 20, 21, 22, 23, 24, 25, 26, 27, 28, 29, 30, 31, 32, 33, 34, 35, 36, 37, 38]\n",
      "[28441.55340514271, 28438.53920609453, 28436.00042791046, 28433.891030843457, 28432.1705372269, 28430.803144334943, 28429.757023833146, 28429.00375762952, 28428.517876353617, 28428.27647690566, 28428.258902128637, 28428.446470090505, 28428.822243528775, 28429.370832188102, 28430.078222365522, 28430.931629154893, 28431.91936777163, 28433.030741022256, 28434.25594051588, 28435.58595963435, 28437.012516612547, 28438.527986349443, 28440.125339789167, 28441.798089889937, 28443.540243346008, 28445.34625734955, 28447.21100078124, 28449.12971930329, 28451.09800390043]\n"
     ]
    },
    {
     "data": {
      "text/plain": [
       "Text(0, 0.5, 'Erro (RMSE)')"
      ]
     },
     "execution_count": 429,
     "metadata": {},
     "output_type": "execute_result"
    },
    {
     "data": {
      "image/png": "[encoded data removed]",
      "text/plain": [
       "<Figure size 864x432 with 1 Axes>"
      ]
     },
     "metadata": {
      "needs_background": "light"
     },
     "output_type": "display_data"
    }
   ],
   "source": [
    "# Modelo ridge\n",
    "\n",
    "# Computando o RMSE da validação cruzada\n",
    "cv_ridge = [rmse_cv(Ridge(alpha = alpha), data_train, target_train).mean() \n",
    "            for alpha in alphas]\n",
    "print(alphas)\n",
    "print(cv_ridge)\n",
    "#Plotando RMSE do modelo Ridge para todos as taxas de aprendizado testadas por meio da validação cruzada\n",
    "cv_ridge = pd.Series(cv_ridge, index = alphas)\n",
    "cv_ridge.plot(title = \"Validação do modelo Ridge\")\n",
    "plt.xlabel(\"Taxa de regularização\")\n",
    "plt.ylabel(\"Erro (RMSE)\")"
   ]
  },
  {
   "cell_type": "code",
   "execution_count": 430,
   "metadata": {},
   "outputs": [
    {
     "name": "stdout",
     "output_type": "stream",
     "text": [
      "28428.258902128637\n"
     ]
    }
   ],
   "source": [
    "#RMSE mínimo\n",
    "print(cv_ridge.min())"
   ]
  },
  {
   "cell_type": "markdown",
   "metadata": {},
   "source": [
    "O que podemos perceber é que o modelo linear Ridge para um parâmetro de regularização muito pequeno o RMSE dele é alto, no entanto, a medida com que se aumenta a taxa de regularização do modelo, o RMSE diminui até um certO PONTO e passa a crescer novamente. A taxa de regularização que mais reduziu o RMSE foi o alpha = 20 e obteve um RMSE = 28428.258902128637."
   ]
  },
  {
   "cell_type": "code",
   "execution_count": 431,
   "metadata": {},
   "outputs": [
    {
     "name": "stdout",
     "output_type": "stream",
     "text": [
      "38099.058970913335\n"
     ]
    }
   ],
   "source": [
    "# Testando o modelo com os dados de 2010 com o parâmetro de regularização encontrado na validação cruzada\n",
    "\n",
    "# Treinando o modelo\n",
    "ridge = Ridge(alpha = 20).fit(data_train, target_train)\n",
    "\n",
    "# Predizendo os votos de 2010\n",
    "target_test_predicted = ridge.predict(data_test)\n",
    "\n",
    "# RMSE\n",
    "print(np.sqrt(mean_squared_error(target_test, target_test_predicted)))"
   ]
  },
  {
   "cell_type": "markdown",
   "metadata": {},
   "source": [
    "Após treinar o modelo com a taxa de regularização que reduziu o erro no teste, predizemos os vatos de 2010. O resultado mostra que o erro aumentou no teste RMSE = 38099.058970913335."
   ]
  },
  {
   "cell_type": "markdown",
   "metadata": {},
   "source": [
    "# Testando modelo linear com regularização Lasso"
   ]
  },
  {
   "cell_type": "code",
   "execution_count": 432,
   "metadata": {
    "scrolled": true
   },
   "outputs": [
    {
     "name": "stdout",
     "output_type": "stream",
     "text": [
      "[10, 11, 12, 13, 14, 15, 16, 17, 18, 19, 20, 21, 22, 23, 24, 25, 26, 27, 28, 29, 30, 31, 32, 33, 34, 35, 36, 37, 38]\n",
      "[28470.678306520018, 28467.988586271334, 28465.387911061425, 28462.97450759664, 28460.855358671895, 28458.83953351808, 28456.84480668912, 28454.856436354425, 28452.97004346799, 28451.372052496547, 28449.966942171868, 28448.759842610263, 28447.574609668598, 28446.551367519845, 28445.623771613675, 28444.898371666524, 28444.32909493104, 28443.9125458779, 28443.62450167192, 28443.379743746747, 28443.183089766786, 28443.06306920066, 28443.06512067221, 28443.211618780773, 28443.470885806033, 28443.87726092624, 28444.341442970763, 28444.863537742072, 28445.509737073393]\n"
     ]
    },
    {
     "data": {
      "text/plain": [
       "Text(0, 0.5, 'Erro (RMSE)')"
      ]
     },
     "execution_count": 432,
     "metadata": {},
     "output_type": "execute_result"
    },
    {
     "data": {
      "image/png": "[encoded data removed]",
      "text/plain": [
       "<Figure size 864x432 with 1 Axes>"
      ]
     },
     "metadata": {
      "needs_background": "light"
     },
     "output_type": "display_data"
    }
   ],
   "source": [
    "# Modelo lasso\n",
    "\n",
    "# Computando o RMSE da validação cruzada\n",
    "cv_lasso = [rmse_cv(Lasso(alpha = alpha, tol = 0.001), data_train, target_train).mean() \n",
    "            for alpha in ralphas]\n",
    "\n",
    "print(ralphas)\n",
    "print(cv_lasso)\n",
    "#Plotando RMSE do modelo Lasso para todos as taxas de aprendizado testadas por meio da validação cruzada\n",
    "cv_lasso = pd.Series(cv_lasso, index = ralphas)\n",
    "cv_lasso.plot(title = \"Validação do modelo Lasso\")\n",
    "plt.xlabel(\"Taxa de regularização\")\n",
    "plt.ylabel(\"Erro (RMSE)\")"
   ]
  },
  {
   "cell_type": "code",
   "execution_count": 433,
   "metadata": {},
   "outputs": [
    {
     "name": "stdout",
     "output_type": "stream",
     "text": [
      "28443.06306920066\n"
     ]
    }
   ],
   "source": [
    "print(cv_lasso.min())"
   ]
  },
  {
   "cell_type": "markdown",
   "metadata": {},
   "source": [
    "O que podemos perceber é que o modelo linear Lasso para um parâmetro de regularização muito pequeno o RMSE dele é alto, no entanto, a medida com que se aumenta a taxa de regularização do modelo, o RMSE diminui até uma certO e, comomno modelo Ridge, passa a crescer novamente. A taxa de regularização que mais reduziu o RMSE médio foi o alpha = 32 e obteve um RMSE = 28443.06306920066."
   ]
  },
  {
   "cell_type": "code",
   "execution_count": 434,
   "metadata": {},
   "outputs": [
    {
     "name": "stdout",
     "output_type": "stream",
     "text": [
      "38073.17875279993\n"
     ]
    }
   ],
   "source": [
    "# Testando o modelo com os dados de 2010 com o parâmetro de regularização encontrado na validação cruzada\n",
    "\n",
    "# Treinando o modelo\n",
    "lasso = Lasso(alpha = 32).fit(data_train, target_train)\n",
    "\n",
    "# Predizendo os votos de 2010\n",
    "target_test_predicted = lasso.predict(data_test)\n",
    "\n",
    "# RMSE\n",
    "print(np.sqrt(mean_squared_error(target_test, target_test_predicted)))"
   ]
  },
  {
   "cell_type": "markdown",
   "metadata": {},
   "source": [
    "Após treinar o modelo com a taxa de regularização que reduziu o erro no teste, predizemos os vatos de 2010. O resultado mostra que o erro aumentou no teste RMSE = 38073.17875279993, continuando baixo, mas maior que o modelo Ridge."
   ]
  },
  {
   "cell_type": "markdown",
   "metadata": {},
   "source": [
    "# Testando os modelos nos dados de 2014"
   ]
  },
  {
   "cell_type": "code",
   "execution_count": 435,
   "metadata": {},
   "outputs": [],
   "source": [
    "# Dados de treino 2006 e 2010\n",
    "train_Y = np .expm1(data_processed['votos'])\n",
    "train_X = data_processed.drop(['ano'],axis=1)\n",
    "\n",
    "\n",
    "# Dados de teste 2014\n",
    "test_X = data_2014\n",
    "test_Y = target_2014"
   ]
  },
  {
   "cell_type": "code",
   "execution_count": 436,
   "metadata": {},
   "outputs": [
    {
     "name": "stdout",
     "output_type": "stream",
     "text": [
      "Linear RMSE\n",
      "262778142204672.97\n",
      "Ridge RMSE\n",
      "122820.48199654889\n",
      "Lasso RMSE\n",
      "122677.22220284423\n"
     ]
    }
   ],
   "source": [
    "# Treinamento dos modelos\n",
    "linear_model = LinearRegression().fit(train_X, train_Y)\n",
    "\n",
    "ridge_model = Ridge(alpha = 20).fit(train_X, train_Y)\n",
    "\n",
    "lasso_model = Lasso(alpha = 32).fit(train_X, train_Y)\n",
    "\n",
    "xgb_model = xgb.XGBRegressor(n_estimators=360, max_depth=2, learning_rate=0.1).fit(train_X, train_Y)\n",
    "\n",
    "# Predizendo votos de 2014\n",
    "y_linear = linear_model.predict(test_X)\n",
    "\n",
    "y_ridge = ridge_model.predict(test_X)\n",
    "\n",
    "y_lasso = lasso_model.predict(test_X)\n",
    "\n",
    "# RMSE\n",
    "print (\"Linear RMSE\")\n",
    "print(np.sqrt(mean_squared_error(target_2014, y_linear)))\n",
    "\n",
    "print (\"Ridge RMSE\")\n",
    "print(np.sqrt(mean_squared_error(target_2014, y_ridge)))\n",
    "\n",
    "print (\"Lasso RMSE\")\n",
    "print(np.sqrt(mean_squared_error(target_2014, y_lasso)))"
   ]
  },
  {
   "cell_type": "markdown",
   "metadata": {},
   "source": [
    "# Conclusão"
   ]
  },
  {
   "cell_type": "markdown",
   "metadata": {},
   "source": [
    "Analisando os modelos testados, podemos obervar que o processo de regularização dos atributos é muito importante para refinamento de modelos lineares. Como podemos obervar nos testes finais usando os dados de 2014 para teste e os dados de 2006 e 2010 para treinamento, o modelo com regularização Lasso foi quem obteve o menor erro RMSE. Os erros em treinamento foram muito altos, como obervamos nos testes iniciais e, aumentaram drásticamente no validação com os dados de 2014. Isso nos possibilita identificar que a tarefa de predizer votos, com os atributos usados neste experimento, não é trivial e confiável. Para tentar melhorar os modelos testados, é preciso atributos mais sigificativos e que possam discriminar melhor a variável alvo."
   ]
  },
  {
   "cell_type": "code",
   "execution_count": null,
   "metadata": {},
   "outputs": [],
   "source": []
  }
 ],
 "metadata": {
  "kernelspec": {
   "display_name": "Python 3",
   "language": "python",
   "name": "python3"
  },
  "language_info": {
   "codemirror_mode": {
    "name": "ipython",
    "version": 3
   },
   "file_extension": ".py",
   "mimetype": "text/x-python",
   "name": "python",
   "nbconvert_exporter": "python",
   "pygments_lexer": "ipython3",
   "version": "3.6.0"
  }
 },
 "nbformat": 4,
 "nbformat_minor": 2
}
