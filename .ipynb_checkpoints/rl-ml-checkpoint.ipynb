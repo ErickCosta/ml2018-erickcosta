{
 "cells": [
  {
   "cell_type": "markdown",
   "metadata": {},
   "source": [
    "# Linear Regression ML"
   ]
  },
  {
   "cell_type": "code",
   "execution_count": 169,
   "metadata": {
    "scrolled": false
   },
   "outputs": [
    {
     "name": "stdout",
     "output_type": "stream",
     "text": [
      "Starting gradient descent at b = 0, m = 0, error = 5565.107834483211\n",
      "Running...\n",
      "0.08893651993741346\n",
      "1.4777440851894448\n",
      "After 1000 iterations b = 0.08893651993741346, m = 1.4777440851894448, error = 112.61481011613473\n"
     ]
    }
   ],
   "source": [
    "from numpy import *\n",
    "\n",
    "#Print RSS (Residuals sum of square) by iterations\n",
    "def print_error_iteration_for_each_line(b, m, points):\n",
    "    totalError = 0\n",
    "    for i in range(0, len(points)):\n",
    "        x = points[i, 0]\n",
    "        y = points[i, 1]\n",
    "        totalError += (y - (m * x + b)) **2\n",
    "        print(totalError, '-' ,i)\n",
    "\n",
    "#Print RSS (Residuals sum of square)\n",
    "def print_error_for_each_line(b, m, points):\n",
    "    totalError = 0\n",
    "    for i in range(0, len(points)):\n",
    "        x = points[i, 0]\n",
    "        y = points[i, 1]\n",
    "        totalError += (y - (m * x + b)) **2\n",
    "        print(totalError)\n",
    "\n",
    "#Compute error code\n",
    "def compute_error_for_line_given_points(b, m, points):\n",
    "    totalError = 0\n",
    "    for i in range(0, len(points)):\n",
    "        x = points[i, 0]\n",
    "        y = points[i, 1]\n",
    "        totalError += (y - (m * x + b)) **2\n",
    "    return totalError / float(len(points))\n",
    "\n",
    "#Step gradient code\n",
    "def step_gradient(b_current, m_current, points, learning_rate):\n",
    "    b_gradient = 0\n",
    "    m_gradient = 0\n",
    "    N = float(len(points))\n",
    "    for i in range(0, len(points)):\n",
    "        x = points[i, 0]\n",
    "        y = points[i, 1]\n",
    "        b_gradient += -(2/N) * (y - ((m_current * x) + b_current))\n",
    "        m_gradient += -(2/N) * x * (y - ((m_current * x) + b_current))\n",
    "    new_b = b_current - (learning_rate * b_gradient)\n",
    "    new_m = m_current - (learning_rate * m_gradient)\n",
    "    return [new_b, new_m]\n",
    "        \n",
    "\n",
    "#Gradient descent code\n",
    "def gradient_descent_runner(points, starting_b, starting_m, learning_rate, num_iterations):\n",
    "    b = starting_b\n",
    "    m = starting_m\n",
    "    \n",
    "    for i in range(num_iterations):\n",
    "        b,m = step_gradient(b,m, array(points), learning_rate)\n",
    "    return [b,m]\n",
    "    \n",
    "#Run method\n",
    "def run(data):\n",
    "    points = genfromtxt(data, delimiter=',')\n",
    "    learning_rate = 0.0001\n",
    "    initial_b = 0\n",
    "    initial_m = 0\n",
    "    num_iterations = 1000\n",
    "    print (\"Starting gradient descent at b = {0}, m = {1}, error = {2}\".format(initial_b, initial_m, compute_error_for_line_given_points(initial_b, initial_m, points)))\n",
    "    print (\"Running...\")\n",
    "    [b,m] = gradient_descent_runner(points, initial_b, initial_m, learning_rate, num_iterations)\n",
    "    print(b)\n",
    "    print(m)\n",
    "    print (\"After {0} iterations b = {1}, m = {2}, error = {3}\".format(num_iterations, b, m, compute_error_for_line_given_points(b, m, points)))\n",
    "\n",
    "#Run to print error\n",
    "def run_error(data):\n",
    "    points = genfromtxt(data, delimiter=',')\n",
    "    learning_rate = 0.0001\n",
    "    initial_b = 0\n",
    "    initial_m = 0\n",
    "    num_iterations = 1000\n",
    "    print_error_for_each_line(initial_b, initial_m, points)\n",
    "    \n",
    "#Run to print error\n",
    "def run_error_iterations(data):\n",
    "    points = genfromtxt(data, delimiter=',')\n",
    "    learning_rate = 0.0001\n",
    "    initial_b = 0\n",
    "    initial_m = 0\n",
    "    num_iterations = 1000\n",
    "    print_error_iteration_for_each_line(initial_b, initial_m, points)\n",
    "\n",
    "#Run by iterations and rate    \n",
    "def run_by_num_iterations_and_learning_rate(data, num_iterations, learning_rate):\n",
    "    points = genfromtxt(data, delimiter=',')\n",
    "    learning_rate = learning_rate\n",
    "    initial_b = 0\n",
    "    initial_m = 0\n",
    "    num_iterations = num_iterations\n",
    "    print (\"Starting gradient descent at b = {0}, m = {1}, error = {2}\".format(initial_b, initial_m, compute_error_for_line_given_points(initial_b, initial_m, points)))\n",
    "    print (\"Running...\")\n",
    "    [b,m] = gradient_descent_runner(points, initial_b, initial_m, learning_rate, num_iterations)\n",
    "    print(b)\n",
    "    print(m)\n",
    "    print (\"After {0} iterations b = {1}, m = {2}, error = {3}\".format(num_iterations, b, m, compute_error_for_line_given_points(b, m, points)))\n",
    "    \n",
    "#Run code Saraj dataset\n",
    "run('data.csv')"
   ]
  },
  {
   "cell_type": "markdown",
   "metadata": {},
   "source": [
    "# Questão 1:"
   ]
  },
  {
   "cell_type": "code",
   "execution_count": 170,
   "metadata": {
    "scrolled": true
   },
   "outputs": [
    {
     "name": "stdout",
     "output_type": "stream",
     "text": [
      "Starting gradient descent at b = 0, m = 0, error = 2946.6344970460195\n",
      "Running...\n",
      "-0.18234255376510086\n",
      "3.262182267596014\n",
      "After 1000 iterations b = -0.18234255376510086, m = 3.262182267596014, error = 103.39842291729676\n"
     ]
    }
   ],
   "source": [
    "#Run with discipline dataset\n",
    "run('income.csv')"
   ]
  },
  {
   "cell_type": "markdown",
   "metadata": {},
   "source": [
    "# Questão 2:"
   ]
  },
  {
   "cell_type": "code",
   "execution_count": 171,
   "metadata": {
    "scrolled": true
   },
   "outputs": [
    {
     "name": "stdout",
     "output_type": "stream",
     "text": [
      "710.693685281386\n",
      "1456.3350965744962\n",
      "1946.1786765790723\n",
      "2394.3408235695506\n",
      "2625.156936734124\n",
      "3322.061552784899\n",
      "3626.0514682736953\n",
      "4276.703677207473\n",
      "5637.177002965462\n",
      "7210.577186144827\n",
      "8393.681302791256\n",
      "10115.764770279184\n",
      "12139.10684771108\n",
      "14351.830369731919\n",
      "16680.141681382476\n",
      "19933.04750699792\n",
      "22584.3622681148\n",
      "26346.543288944235\n",
      "29662.22865162597\n",
      "34361.84035736833\n",
      "38497.73547078538\n",
      "43253.080343301575\n",
      "48820.424738091286\n",
      "53985.31849899025\n",
      "59776.24470726105\n",
      "65518.128374733875\n",
      "70772.35658989825\n",
      "76756.15579793125\n",
      "81957.27573425039\n",
      "88399.03491138059\n"
     ]
    }
   ],
   "source": [
    "#Run with print of RSS\n",
    "run_error('income.csv')"
   ]
  },
  {
   "cell_type": "markdown",
   "metadata": {},
   "source": [
    "# Questão 3:"
   ]
  },
  {
   "cell_type": "markdown",
   "metadata": {},
   "source": [
    "O erro aumenta de acordo com as iterações."
   ]
  },
  {
   "cell_type": "code",
   "execution_count": 172,
   "metadata": {},
   "outputs": [
    {
     "name": "stdout",
     "output_type": "stream",
     "text": [
      "710.693685281386 - 0\n",
      "1456.3350965744962 - 1\n",
      "1946.1786765790723 - 2\n",
      "2394.3408235695506 - 3\n",
      "2625.156936734124 - 4\n",
      "3322.061552784899 - 5\n",
      "3626.0514682736953 - 6\n",
      "4276.703677207473 - 7\n",
      "5637.177002965462 - 8\n",
      "7210.577186144827 - 9\n",
      "8393.681302791256 - 10\n",
      "10115.764770279184 - 11\n",
      "12139.10684771108 - 12\n",
      "14351.830369731919 - 13\n",
      "16680.141681382476 - 14\n",
      "19933.04750699792 - 15\n",
      "22584.3622681148 - 16\n",
      "26346.543288944235 - 17\n",
      "29662.22865162597 - 18\n",
      "34361.84035736833 - 19\n",
      "38497.73547078538 - 20\n",
      "43253.080343301575 - 21\n",
      "48820.424738091286 - 22\n",
      "53985.31849899025 - 23\n",
      "59776.24470726105 - 24\n",
      "65518.128374733875 - 25\n",
      "70772.35658989825 - 26\n",
      "76756.15579793125 - 27\n",
      "81957.27573425039 - 28\n",
      "88399.03491138059 - 29\n"
     ]
    }
   ],
   "source": [
    "#Run with print of RSS by iteration\n",
    "run_error_iterations('income.csv')"
   ]
  },
  {
   "cell_type": "markdown",
   "metadata": {},
   "source": [
    "# Questão 4"
   ]
  },
  {
   "cell_type": "code",
   "execution_count": 182,
   "metadata": {},
   "outputs": [
    {
     "name": "stdout",
     "output_type": "stream",
     "text": [
      "Starting gradient descent at b = 0, m = 0, error = 2946.6344970460195\n",
      "Running...\n",
      "-6.673235734774021\n",
      "3.6485718802165836\n",
      "After 200000 iterations b = -6.673235734774021, m = 3.6485718802165836, error = 81.08475625816143\n"
     ]
    }
   ],
   "source": [
    "#Run by number of iterations\n",
    "#15000 and 0.0005\n",
    "run_by_num_iterations_and_learning_rate('income.csv', 200000, 0.0001)"
   ]
  },
  {
   "cell_type": "markdown",
   "metadata": {},
   "source": [
    "# Questão 5"
   ]
  },
  {
   "cell_type": "code",
   "execution_count": null,
   "metadata": {},
   "outputs": [],
   "source": []
  }
 ],
 "metadata": {
  "kernelspec": {
   "display_name": "Python 3",
   "language": "python",
   "name": "python3"
  },
  "language_info": {
   "codemirror_mode": {
    "name": "ipython",
    "version": 3
   },
   "file_extension": ".py",
   "mimetype": "text/x-python",
   "name": "python",
   "nbconvert_exporter": "python",
   "pygments_lexer": "ipython3",
   "version": "3.6.0"
  }
 },
 "nbformat": 4,
 "nbformat_minor": 2
}
