{
 "cells": [
  {
   "cell_type": "markdown",
   "metadata": {},
   "source": [
    "# Regressão Linear Múltipla (SciKit):"
   ]
  },
  {
   "cell_type": "code",
   "execution_count": 183,
   "metadata": {},
   "outputs": [],
   "source": [
    "from sklearn.model_selection import train_test_split\n",
    "from sklearn.linear_model import LinearRegression\n",
    "import pandas as pd\n",
    "import numpy as np\n"
   ]
  },
  {
   "cell_type": "code",
   "execution_count": 187,
   "metadata": {},
   "outputs": [],
   "source": [
    "def skl(x, y):\n",
    "    #Create model\n",
    "    lr_model = LinearRegression()\n",
    "    \n",
    "    #Train model\n",
    "    lr_model.fit(x, y)\n",
    "    \n",
    "    print(lr_model.intercept_[0])\n",
    "    #Estimated coefficients by feature0\n",
    "    for c in lr_model.coef_[0]:\n",
    "        print(c)"
   ]
  },
  {
   "cell_type": "code",
   "execution_count": 185,
   "metadata": {},
   "outputs": [],
   "source": [
    "def run_skl(dataset):\n",
    "    \n",
    "    #Read dataset\n",
    "    data = pd.read_csv(dataset)\n",
    "    \n",
    "    #Load data\n",
    "    x = pd.DataFrame(data[['d1', 'd2', 'd3', 'd4', 'd5']]).values\n",
    "    y = pd.DataFrame(data[['cra']]).values\n",
    "    \n",
    "    #Coefficients\n",
    "    skl(x, y)"
   ]
  },
  {
   "cell_type": "markdown",
   "metadata": {},
   "source": [
    "Execução do modelo e exibição dos coeficiêntes pós-treino:"
   ]
  },
  {
   "cell_type": "code",
   "execution_count": 188,
   "metadata": {
    "scrolled": false
   },
   "outputs": [
    {
     "name": "stdout",
     "output_type": "stream",
     "text": [
      "1.7377115137944346\n",
      "0.10304143246259938\n",
      "0.04643670085073448\n",
      "0.1640983441916584\n",
      "0.3811784266558143\n",
      "0.020278157624843585\n"
     ]
    }
   ],
   "source": [
    "run_skl('sample_treino.csv')"
   ]
  },
  {
   "cell_type": "markdown",
   "metadata": {},
   "source": [
    "# Regressão Linear Múltipla (MMQ):"
   ]
  },
  {
   "cell_type": "code",
   "execution_count": 194,
   "metadata": {},
   "outputs": [],
   "source": [
    "def mmq(x, y):\n",
    "    \n",
    "    x = np.insert(x, 0, 1, axis=1)\n",
    "    x_t = np.transpose(x)\n",
    "    xt_x = np.dot(x_t, x)\n",
    "    inverse_xt_x = np.linalg.inv(xt_x)\n",
    "    xt_y = np.dot(x_t, y)\n",
    "    \n",
    "    for c in np.dot(inverse_xt_x, xt_y):\n",
    "        print(c[0])"
   ]
  },
  {
   "cell_type": "code",
   "execution_count": 192,
   "metadata": {},
   "outputs": [],
   "source": [
    "def run_rlm(dataset):\n",
    "    \n",
    "    #Read dataset\n",
    "    data = pd.read_csv(dataset)\n",
    "    \n",
    "    #Load data\n",
    "    x = pd.DataFrame(data[['d1', 'd2', 'd3', 'd4', 'd5']]).values\n",
    "    y = pd.DataFrame(data[['cra']]).values\n",
    "    \n",
    "    #Coefficients\n",
    "    mmq(x, y)"
   ]
  },
  {
   "cell_type": "markdown",
   "metadata": {},
   "source": [
    "Execução do modelo e exibição dos coeficiêntes pós-treino:"
   ]
  },
  {
   "cell_type": "code",
   "execution_count": 195,
   "metadata": {},
   "outputs": [
    {
     "name": "stdout",
     "output_type": "stream",
     "text": [
      "1.737711513795034\n",
      "0.10304143246257702\n",
      "0.04643670085070717\n",
      "0.16409834419164326\n",
      "0.381178426655822\n",
      "0.020278157624844084\n"
     ]
    }
   ],
   "source": [
    "run_rlm('sample_treino.csv')"
   ]
  },
  {
   "cell_type": "markdown",
   "metadata": {},
   "source": [
    "# Regressão Linear Múltipla (Gradient )"
   ]
  },
  {
   "cell_type": "code",
   "execution_count": null,
   "metadata": {},
   "outputs": [],
   "source": []
  }
 ],
 "metadata": {
  "kernelspec": {
   "display_name": "Python 3",
   "language": "python",
   "name": "python3"
  },
  "language_info": {
   "codemirror_mode": {
    "name": "ipython",
    "version": 3
   },
   "file_extension": ".py",
   "mimetype": "text/x-python",
   "name": "python",
   "nbconvert_exporter": "python",
   "pygments_lexer": "ipython3",
   "version": "3.6.0"
  }
 },
 "nbformat": 4,
 "nbformat_minor": 2
}
