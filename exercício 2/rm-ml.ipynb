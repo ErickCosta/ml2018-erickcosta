{
 "cells": [
  {
   "cell_type": "markdown",
   "metadata": {},
   "source": [
    "# Imports"
   ]
  },
  {
   "cell_type": "code",
   "execution_count": 60,
   "metadata": {},
   "outputs": [],
   "source": [
    "from sklearn.model_selection import train_test_split\n",
    "from sklearn.linear_model import LinearRegression\n",
    "import pandas as pd\n",
    "import numpy as np\n",
    "import math\n",
    "import time"
   ]
  },
  {
   "cell_type": "markdown",
   "metadata": {},
   "source": [
    "# Regressão Linear Múltipla (SciKit):"
   ]
  },
  {
   "cell_type": "code",
   "execution_count": 61,
   "metadata": {},
   "outputs": [],
   "source": [
    "def skl(x, y):\n",
    "    #Create model\n",
    "    lr_model = LinearRegression()\n",
    "    \n",
    "    #Train model\n",
    "    lr_model.fit(x, y)\n",
    "    \n",
    "    print(lr_model.intercept_[0])\n",
    "    #Estimated coefficients by feature0\n",
    "    for c in lr_model.coef_[0]:\n",
    "        print(c)"
   ]
  },
  {
   "cell_type": "code",
   "execution_count": 62,
   "metadata": {},
   "outputs": [],
   "source": [
    "def run_skl(dataset):\n",
    "    \n",
    "    #Read dataset\n",
    "    data = pd.read_csv(dataset)\n",
    "    \n",
    "    #Load data\n",
    "    x = pd.DataFrame(data[['d1', 'd2', 'd3', 'd4', 'd5']]).values\n",
    "    y = pd.DataFrame(data[['cra']]).values\n",
    "    \n",
    "    #Coefficients\n",
    "    skl(x, y)"
   ]
  },
  {
   "cell_type": "markdown",
   "metadata": {},
   "source": [
    "Execução do modelo e exibição dos coeficiêntes pós-treino:"
   ]
  },
  {
   "cell_type": "code",
   "execution_count": 63,
   "metadata": {
    "scrolled": false
   },
   "outputs": [
    {
     "name": "stdout",
     "output_type": "stream",
     "text": [
      "1.7377115137944346\n",
      "0.10304143246259938\n",
      "0.04643670085073448\n",
      "0.1640983441916584\n",
      "0.3811784266558143\n",
      "0.020278157624843585\n"
     ]
    }
   ],
   "source": [
    "run_skl('sample_treino.csv')"
   ]
  },
  {
   "cell_type": "markdown",
   "metadata": {},
   "source": [
    "# Regressão Linear Múltipla (MMQ):"
   ]
  },
  {
   "cell_type": "code",
   "execution_count": 64,
   "metadata": {},
   "outputs": [],
   "source": [
    "def mmq(x, y):\n",
    "    \n",
    "    x = np.insert(x, 0, 1, axis=1)\n",
    "    x_t = np.transpose(x)\n",
    "    xt_x = np.dot(x_t, x)\n",
    "    inverse_xt_x = np.linalg.inv(xt_x)\n",
    "    xt_y = np.dot(x_t, y)\n",
    "    \n",
    "    for c in np.dot(inverse_xt_x, xt_y):\n",
    "        print(c[0])"
   ]
  },
  {
   "cell_type": "code",
   "execution_count": 65,
   "metadata": {},
   "outputs": [],
   "source": [
    "def run_rlm(dataset):\n",
    "    \n",
    "    #Read dataset\n",
    "    data = pd.read_csv(dataset)\n",
    "    \n",
    "    #Load data\n",
    "    x = pd.DataFrame(data[['d1', 'd2', 'd3', 'd4', 'd5']]).values\n",
    "    y = pd.DataFrame(data[['cra']]).values\n",
    "    \n",
    "    #Coefficients\n",
    "    mmq(x, y)"
   ]
  },
  {
   "cell_type": "markdown",
   "metadata": {},
   "source": [
    "Execução do modelo e exibição dos coeficiêntes pós-treino:"
   ]
  },
  {
   "cell_type": "code",
   "execution_count": 66,
   "metadata": {},
   "outputs": [
    {
     "name": "stdout",
     "output_type": "stream",
     "text": [
      "1.737711513795034\n",
      "0.10304143246257702\n",
      "0.04643670085070717\n",
      "0.16409834419164326\n",
      "0.381178426655822\n",
      "0.020278157624844084\n"
     ]
    }
   ],
   "source": [
    "run_rlm('sample_treino.csv')"
   ]
  },
  {
   "cell_type": "markdown",
   "metadata": {},
   "source": [
    "# Regressão Linear Múltipla (Gradient )"
   ]
  },
  {
   "cell_type": "code",
   "execution_count": 67,
   "metadata": {},
   "outputs": [],
   "source": [
    "def compute_mse_vectorized(w,X,Y):\n",
    "    res = Y - np.dot(X,w)\n",
    "    totalError = np.dot(res.T,res)\n",
    "    return totalError / float(len(Y))"
   ]
  },
  {
   "cell_type": "code",
   "execution_count": 68,
   "metadata": {},
   "outputs": [],
   "source": [
    "def step_gradient_vectorized(w_current,X,Y,learningRate):\n",
    "    res = Y - np.dot(X, w_current)\n",
    "    grad = np.multiply(-2/len(X), np.dot(X.T, res))\n",
    "    new_w = np.zeros((len(grad),1))\n",
    "    for i in range(len(grad)):\n",
    "        new_w[i,0] = w_current[i] - (grad[i] * learningRate)\n",
    "    return [new_w,grad]"
   ]
  },
  {
   "cell_type": "code",
   "execution_count": 69,
   "metadata": {},
   "outputs": [],
   "source": [
    "def gradient_descent_runner_vectorized(starting_w, X,Y, learning_rate, epsilon):\n",
    "    w = starting_w\n",
    "    grad = np.array([np.inf,np.inf, np.inf,np.inf,np.inf,np.inf])\n",
    "    i = 0\n",
    "    while (np.linalg.norm(grad)>=epsilon):\n",
    "        w,grad = step_gradient_vectorized(w, X, Y, learning_rate)\n",
    "        i+= 1\n",
    "    return w"
   ]
  },
  {
   "cell_type": "code",
   "execution_count": 70,
   "metadata": {},
   "outputs": [],
   "source": [
    "def run_rlmm(dataset, learning_rate, epsilon):\n",
    "    points = np.genfromtxt(dataset, delimiter=\",\", skip_header=1)\n",
    "    points = np.c_[np.ones(len(points)),points]\n",
    "    X = points[:,:6]\n",
    "    Y = points[:,6][:,np.newaxis]\n",
    "    init_w = np.zeros((6,1))\n",
    "    learning_rate = learning_rate\n",
    "    epsilon = epsilon\n",
    "    w = gradient_descent_runner_vectorized(init_w, X,Y, learning_rate, epsilon)\n",
    "    for c in w:\n",
    "        print(c[0])"
   ]
  },
  {
   "cell_type": "code",
   "execution_count": 71,
   "metadata": {},
   "outputs": [
    {
     "name": "stdout",
     "output_type": "stream",
     "text": [
      "0.05540834611679614\n",
      "0.14437956504218688\n",
      "0.16036210570877774\n",
      "0.17744115771034352\n",
      "0.3946597366556146\n",
      "0.05140574150577698\n"
     ]
    }
   ],
   "source": [
    "run_rlmm('sample_treino.csv', 0.001, 0.1)"
   ]
  },
  {
   "cell_type": "code",
   "execution_count": 72,
   "metadata": {},
   "outputs": [
    {
     "name": "stdout",
     "output_type": "stream",
     "text": [
      "1.0213914155883619\n",
      "0.11587685689400858\n",
      "0.07921795385284058\n",
      "0.16246624065890286\n",
      "0.41755245720676426\n",
      "0.02909314040028249\n"
     ]
    }
   ],
   "source": [
    "run_rlmm('sample_treino.csv', 0.001, 0.01)"
   ]
  },
  {
   "cell_type": "code",
   "execution_count": 73,
   "metadata": {},
   "outputs": [
    {
     "name": "stdout",
     "output_type": "stream",
     "text": [
      "1.666078888090045\n",
      "0.10432498594149059\n",
      "0.04971485433588941\n",
      "0.16393513243511848\n",
      "0.384815860984883\n",
      "0.021159663481408245\n"
     ]
    }
   ],
   "source": [
    "run_rlmm('sample_treino.csv', 0.001, 0.001)"
   ]
  },
  {
   "cell_type": "code",
   "execution_count": 74,
   "metadata": {},
   "outputs": [
    {
     "name": "stdout",
     "output_type": "stream",
     "text": [
      "1.7305482893779969\n",
      "0.10316978712682381\n",
      "0.04676451445319279\n",
      "0.16408202310293654\n",
      "0.3815421681512983\n",
      "0.020366307740979743\n"
     ]
    }
   ],
   "source": [
    "run_rlmm('sample_treino.csv', 0.001, 0.0001)"
   ]
  },
  {
   "cell_type": "markdown",
   "metadata": {},
   "source": [
    "Neste exercício foram implementadas três formas para calcular os coeficiêntes para o modelo de regressão linear múltipla. O primeiro são os resultados obtidos pela api do SciKit Learn, o segundo a forma fechada (MMP) e o terceiro uma versão baseada no gradiente considerando taxa de aprendizagem e crtério de convergência.\n",
    "\n",
    "Como podemos obervar, os resultados do SciKit Learn e da fórmula fechada são bastante próximos, no entanto, os resultados obtidos pela versão considerando o gradiente apresentou valores bastante distintos para os coeficiêntes encontrados considerando a taxa de aprendizagem = 0.001 e convergência = 0.1. Porém, a medida com que fomos diminuindo a convergência, os valores foram se aproximando dos encontreados na duas primeiras soluções."
   ]
  }
 ],
 "metadata": {
  "kernelspec": {
   "display_name": "Python 3",
   "language": "python",
   "name": "python3"
  },
  "language_info": {
   "codemirror_mode": {
    "name": "ipython",
    "version": 3
   },
   "file_extension": ".py",
   "mimetype": "text/x-python",
   "name": "python",
   "nbconvert_exporter": "python",
   "pygments_lexer": "ipython3",
   "version": "3.6.0"
  }
 },
 "nbformat": 4,
 "nbformat_minor": 2
}
